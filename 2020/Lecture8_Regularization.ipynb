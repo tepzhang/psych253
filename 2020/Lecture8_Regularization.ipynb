{
 "cells": [
  {
   "cell_type": "code",
   "execution_count": 1,
   "metadata": {
    "collapsed": true,
    "deletable": true,
    "editable": true
   },
   "outputs": [],
   "source": [
    "%matplotlib inline\n",
    "import matplotlib\n",
    "import matplotlib.pyplot as plt"
   ]
  },
  {
   "cell_type": "code",
   "execution_count": 2,
   "metadata": {
    "collapsed": true,
    "deletable": true,
    "editable": true
   },
   "outputs": [],
   "source": [
    "#other useful imports \n",
    "import numpy as np\n",
    "import scipy as sp\n",
    "import scipy.stats as stats\n",
    "import h5py"
   ]
  },
  {
   "cell_type": "code",
   "execution_count": 62,
   "metadata": {
    "collapsed": false,
    "deletable": true,
    "editable": true
   },
   "outputs": [],
   "source": [
    "#loading code modules containing some of the routines we wrote last time\n",
    "#... so we don't have to write them again here! this is called \"code reuse\" :)\n",
    "\n",
    "import metrics ; reload(metrics)\n",
    "import cross_validation as cv; reload(cv)\n",
    "import utils; reload(utils)\n",
    "from utils import featurewise_norm, spearman_brown\n"
   ]
  },
  {
   "cell_type": "code",
   "execution_count": 6,
   "metadata": {
    "collapsed": true,
    "deletable": true,
    "editable": true
   },
   "outputs": [],
   "source": [
    "#ok let's load our usual data \n",
    "DATA_PATH = \"/mnt/data3/yamins/visual/ventral_neural_data.hdf5\"\n",
    "Ventral_Dataset = h5py.File(DATA_PATH)"
   ]
  },
  {
   "cell_type": "code",
   "execution_count": 7,
   "metadata": {
    "collapsed": true,
    "deletable": true,
    "editable": true
   },
   "outputs": [],
   "source": [
    "Neural_Data = Ventral_Dataset['time_averaged_trial_averaged'][:]\n"
   ]
  },
  {
   "cell_type": "code",
   "execution_count": 8,
   "metadata": {
    "collapsed": true,
    "deletable": true,
    "editable": true
   },
   "outputs": [],
   "source": [
    "meta_array = np.core.records.fromarrays(Ventral_Dataset['image_meta'].values(),\n",
    "                                        names=Ventral_Dataset['image_meta'].keys())\n"
   ]
  },
  {
   "cell_type": "code",
   "execution_count": 9,
   "metadata": {
    "collapsed": true,
    "deletable": true,
    "editable": true
   },
   "outputs": [],
   "source": [
    "#now, let's actually import the Linear Support Vector Classifier (LinearSVC)\n",
    "#from scikit\n",
    "from sklearn.svm import LinearSVC"
   ]
  },
  {
   "cell_type": "code",
   "execution_count": 10,
   "metadata": {
    "collapsed": false,
    "deletable": true,
    "editable": true
   },
   "outputs": [
    {
     "name": "stdout",
     "output_type": "stream",
     "text": [
      "SVM Classifier Default Regulazation Var level V0 performance on Faces vs Fruits: 100.00%\n",
      "SVM Classifier Default Regulazation Var level V3 performance on Faces vs Fruits: 95.75%\n",
      "SVM Classifier Default Regulazation Var level V6 performance on Faces vs Fruits: 77.00%\n"
     ]
    }
   ],
   "source": [
    "cat1 = 'Faces'\n",
    "cat2 = 'Fruits'\n",
    "\n",
    "results_svm_default = {}\n",
    "for vl in ['V0', 'V3', 'V6']:\n",
    "    splits = cv.get_splits(meta_array, \n",
    "                        lambda x: x['object_name'],  \n",
    "                        10,  \n",
    "                        5,  \n",
    "                        5 if vl == 'V0' else 35,  \n",
    "                        train_filter=lambda x: (x['variation_level'] == vl) and (x['category'] in [cat1, cat2]),\n",
    "                        test_filter=lambda x: (x['variation_level'] == vl) and (x['category'] in [cat1, cat2])\n",
    "                       )\n",
    "\n",
    "    results, train_classes = cv.train_and_test_scikit_classifier(features=Neural_Data, \n",
    "                                               labels=meta_array['category'],\n",
    "                                               splits=splits,\n",
    "                                               model_class=LinearSVC,\n",
    "                                              )\n",
    "    results_svm_default[vl] = results\n",
    "    print('SVM Classifier Default Regulazation Var level %s performance on %s vs %s: %.2f%%' % (vl,   \n",
    "                                                                           cat1,\n",
    "                                                                           cat2,\n",
    "                                                                           100*results['test']['mean_accuracy']))\n",
    "\n"
   ]
  },
  {
   "cell_type": "code",
   "execution_count": 11,
   "metadata": {
    "collapsed": false,
    "deletable": true,
    "editable": true
   },
   "outputs": [
    {
     "name": "stdout",
     "output_type": "stream",
     "text": [
      "L2 Regularized SVM Classifier Var level V0 performance on Faces vs Fruits: 100.00%\n",
      "L2 Regularized SVM Classifier Var level V3 performance on Faces vs Fruits: 96.63%\n",
      "L2 Regularized SVM Classifier Var level V6 performance on Faces vs Fruits: 80.50%\n"
     ]
    }
   ],
   "source": [
    "#Let's do a bit more regularization (lower C)\n",
    "\n",
    "\n",
    "results_l2_svm = {}\n",
    "for vl in ['V0', 'V3', 'V6']:\n",
    "    splits = cv.get_splits(meta_array, \n",
    "                        lambda x: x['object_name'],  \n",
    "                        10,  \n",
    "                        5,  \n",
    "                        5 if vl == 'V0' else 35,  \n",
    "                        train_filter=lambda x: (x['variation_level'] == vl) and (x['category'] in [cat1, cat2]),\n",
    "                        test_filter=lambda x: (x['variation_level'] == vl) and (x['category'] in [cat1, cat2])\n",
    "                       )\n",
    "\n",
    "    results, train_classes = cv.train_and_test_scikit_classifier(features=Neural_Data, \n",
    "                                               labels=meta_array['category'],\n",
    "                                               splits=splits,\n",
    "                                               model_class=LinearSVC,\n",
    "                                               model_args={'C': 5e-3}  ##HERE'S WHERE THE REGULARIZATION \n",
    "                                                                       ##PARAMETER IS INJECTED\n",
    "                                                                       ##NB This C is proportional to 1 / lambda\n",
    "                                                                       ##So small C is MORE regularization \n",
    "                                              )\n",
    "    results_l2_svm[vl] = results\n",
    "    print('L2 Regularized SVM Classifier Var level %s performance on %s vs %s: %.2f%%' % (vl,   \n",
    "                                                                           cat1,\n",
    "                                                                           cat2,\n",
    "                                                                           100*results['test']['mean_accuracy']))\n",
    "\n",
    "#So actually, doing somewhat less than the default (C=1) is better for results"
   ]
  },
  {
   "cell_type": "code",
   "execution_count": 12,
   "metadata": {
    "collapsed": false,
    "deletable": true,
    "editable": true
   },
   "outputs": [
    {
     "name": "stdout",
     "output_type": "stream",
     "text": [
      "SVM Classifier Var level V0 performance 8-way: 91.69%\n",
      "SVM Classifier Var level V3 performance 8-way: 77.75%\n",
      "SVM Classifier Var level V6 performance 8-way: 54.50%\n",
      "SVM Classifier Var level V0 test performance 8-way: 91.69%\n",
      "SVM Classifier Var level V0 train performance 8-way: 100.00%\n",
      "SVM Classifier Var level V3 test performance 8-way: 77.75%\n",
      "SVM Classifier Var level V3 train performance 8-way: 99.81%\n",
      "SVM Classifier Var level V6 test performance 8-way: 54.50%\n",
      "SVM Classifier Var level V6 train performance 8-way: 87.13%\n"
     ]
    }
   ],
   "source": [
    "#now let's look at this for 8-way tasks not just binary\n",
    "#first with default regularization ... \n",
    "\n",
    "results_svm_classifier_8way = {}\n",
    "for vl in ['V0', 'V3', 'V6']:\n",
    "    splits = cv.get_splits(meta_array, \n",
    "                        lambda x: x['object_name'],  #we're balancing splits by object\n",
    "                        10,  \n",
    "                        5,  \n",
    "                        5 if vl == 'V0' else 35,  \n",
    "                        train_filter=lambda x: (x['variation_level'] == vl),\n",
    "                        test_filter=lambda x: (x['variation_level'] == vl)\n",
    "                       )\n",
    "\n",
    "    results, train_classes = cv.train_and_test_scikit_classifier(features=Neural_Data, \n",
    "                                               labels=meta_array['category'],\n",
    "                                               splits=splits,\n",
    "                                               model_class=LinearSVC\n",
    "                                              )\n",
    "    results_svm_classifier_8way[vl] = results\n",
    "    print('SVM Classifier Var level %s performance 8-way: %.2f%%' % (vl,\n",
    "                                                                     100*results['test']['mean_accuracy']))\n",
    "\n",
    "for vl in ['V0', 'V3', 'V6']:\n",
    "    print('SVM Classifier Var level %s test performance 8-way: %.2f%%' % (vl,\n",
    "                            100*results_svm_classifier_8way[vl]['test']['mean_accuracy']))\n",
    "    \n",
    "    print('SVM Classifier Var level %s train performance 8-way: %.2f%%' % (vl,\n",
    "                            100*results_svm_classifier_8way[vl]['train']['mean_accuracy']))\n",
    "\n",
    "#so the key observation is that the more heavily regularized L2 classifier has lower train performance\n",
    "#but higher test performance -- better generalization -- which is what matters!"
   ]
  },
  {
   "cell_type": "code",
   "execution_count": 13,
   "metadata": {
    "collapsed": false,
    "deletable": true,
    "editable": true
   },
   "outputs": [
    {
     "name": "stdout",
     "output_type": "stream",
     "text": [
      "More L2-Regularized SVM Classifier Var level V0 test performance 8-way: 93.12%\n",
      "More L2-Regularized SVM Classifier Var level V0 train performance 8-way: 100.00%\n",
      "More L2-Regularized SVM Classifier Var level V3 test performance 8-way: 84.62%\n",
      "More L2-Regularized SVM Classifier Var level V3 train performance 8-way: 95.17%\n",
      "More L2-Regularized SVM Classifier Var level V6 test performance 8-way: 60.94%\n",
      "More L2-Regularized SVM Classifier Var level V6 train performance 8-way: 81.19%\n"
     ]
    }
   ],
   "source": [
    "#... now again with more regularization (lower C)\n",
    "\n",
    "l2_results_svm_classifier_8way = {}\n",
    "for vl in ['V0', 'V3', 'V6']:\n",
    "    splits = cv.get_splits(meta_array, \n",
    "                        lambda x: x['object_name'],  #we're balancing splits by object\n",
    "                        10,  \n",
    "                        5,  \n",
    "                        5 if vl == 'V0' else 35,  \n",
    "                        train_filter=lambda x: (x['variation_level'] == vl),\n",
    "                        test_filter=lambda x: (x['variation_level'] == vl)\n",
    "                       )\n",
    "\n",
    "    results, train_classes = cv.train_and_test_scikit_classifier(features=Neural_Data, \n",
    "                                               labels=meta_array['category'],\n",
    "                                               splits=splits,\n",
    "                                               model_class=LinearSVC,\n",
    "                                               model_args = {'C': 5e-3} \n",
    "                                              )\n",
    "    l2_results_svm_classifier_8way[vl] = results\n",
    "    print('More L2-Regularized SVM Classifier Var level %s test performance 8-way: %.2f%%' % (vl,\n",
    "                                                                           100*results['test']['mean_accuracy']))\n",
    "    \n",
    "    print('More L2-Regularized SVM Classifier Var level %s train performance 8-way: %.2f%%' % (vl,\n",
    "                                                                           100*results['train']['mean_accuracy']))"
   ]
  },
  {
   "cell_type": "code",
   "execution_count": 14,
   "metadata": {
    "collapsed": true,
    "deletable": true,
    "editable": true
   },
   "outputs": [],
   "source": [
    "#ok so the interesting thing to notice about is that while with less regularization\n",
    "#training performance increases (e.g. 86.96% vs 81.19%) testing performance is worse \n",
    "#(54.44% vs 60.95%) -- so regularization can help prevent overfitting!"
   ]
  },
  {
   "cell_type": "code",
   "execution_count": 15,
   "metadata": {
    "collapsed": true,
    "deletable": true,
    "editable": true
   },
   "outputs": [],
   "source": [
    "#also, compare to the minimum distance classifier from the last lecture -- performance is really \n",
    "#much better here (e.g. ~61% vs ~43% there)"
   ]
  },
  {
   "cell_type": "markdown",
   "metadata": {
    "deletable": true,
    "editable": true
   },
   "source": [
    "### Effect of regularization values"
   ]
  },
  {
   "cell_type": "code",
   "execution_count": 16,
   "metadata": {
    "collapsed": false,
    "deletable": true,
    "editable": true
   },
   "outputs": [],
   "source": [
    "#Let's compare what happens to the weights at different values of the regularization\n",
    "\n",
    "splits = cv.get_splits(meta_array, \n",
    "                        lambda x: x['object_name'],  #we're balancing splits by object\n",
    "                        5,  \n",
    "                        5,  \n",
    "                        35,  \n",
    "                        train_filter=lambda x: (x['variation_level'] == 'V3'),\n",
    "                        test_filter=lambda x: (x['variation_level'] == 'V3')\n",
    "                       )\n",
    "\n",
    "results_defaultC, _ig = cv.train_and_test_scikit_classifier(features=Neural_Data, \n",
    "                                               labels=meta_array['category'],\n",
    "                                               splits=splits,\n",
    "                                               model_class=LinearSVC,\n",
    "                                               model_args={'C': 1},\n",
    "                                               return_models=True\n",
    "                                              )\n",
    "\n",
    "results_lowC, _ig = cv.train_and_test_scikit_classifier(features=Neural_Data, \n",
    "                                               labels=meta_array['category'],\n",
    "                                               splits=splits,\n",
    "                                               model_class=LinearSVC,\n",
    "                                               model_args={'C':5e-3},\n",
    "                                               return_models=True\n",
    "                                              )\n",
    "\n",
    "results_hiC, _ig = cv.train_and_test_scikit_classifier(features=Neural_Data, \n",
    "                                               labels=meta_array['category'],\n",
    "                                               splits=splits,\n",
    "                                               model_class=LinearSVC,\n",
    "                                               model_args={'C':5e3},\n",
    "                                               return_models=True\n",
    "                                              )\n",
    "\n",
    "trained_model_defaultC = results_defaultC['models'][0]\n",
    "trained_model_lowC = results_lowC['models'][0]\n",
    "trained_model_hiC = results_hiC['models'][0]"
   ]
  },
  {
   "cell_type": "code",
   "execution_count": 17,
   "metadata": {
    "collapsed": false,
    "deletable": true,
    "editable": true
   },
   "outputs": [
    {
     "data": {
      "text/plain": [
       "<matplotlib.text.Text at 0x7fa634abbd10>"
      ]
     },
     "execution_count": 17,
     "metadata": {},
     "output_type": "execute_result"
    },
    {
     "data": {
      "image/png": "[encoded data removed]",
      "text/plain": [
       "<matplotlib.figure.Figure at 0x7fa6580b16d0>"
      ]
     },
     "metadata": {},
     "output_type": "display_data"
    },
    {
     "data": {
      "text/plain": [
       "<matplotlib.figure.Figure at 0x7fa65800ea90>"
      ]
     },
     "metadata": {},
     "output_type": "display_data"
    },
    {
     "data": {
      "image/png": "[encoded data removed]",
      "text/plain": [
       "<matplotlib.figure.Figure at 0x7fa65807d3d0>"
      ]
     },
     "metadata": {},
     "output_type": "display_data"
    },
    {
     "data": {
      "text/plain": [
       "<matplotlib.figure.Figure at 0x7fa65807d310>"
      ]
     },
     "metadata": {},
     "output_type": "display_data"
    },
    {
     "data": {
      "image/png": "[encoded data removed]",
      "text/plain": [
       "<matplotlib.figure.Figure at 0x7fa634b79890>"
      ]
     },
     "metadata": {},
     "output_type": "display_data"
    },
    {
     "data": {
      "image/png": "[encoded data removed]",
      "text/plain": [
       "<matplotlib.figure.Figure at 0x7fa634b798d0>"
      ]
     },
     "metadata": {},
     "output_type": "display_data"
    }
   ],
   "source": [
    "weights_defaultC = trained_model_defaultC.coef_\n",
    "plt.matshow(weights_defaultC)\n",
    "\n",
    "plt.figure()\n",
    "weights_lowC = trained_model_lowC.coef_\n",
    "plt.matshow(trained_model_lowC.coef_)\n",
    "\n",
    "plt.figure()\n",
    "weights_hiC = trained_model_hiC.coef_\n",
    "plt.matshow(trained_model_hiC.coef_)\n",
    "\n",
    "\n",
    "plt.figure()\n",
    "l2 = plt.hist(weights_hiC.ravel(), bins=10);\n",
    "l0 = plt.hist(weights_defaultC.ravel(), bins=10);\n",
    "l1 = plt.hist(weights_lowC.ravel(), bins=10);\n",
    "plt.legend([l0[2][0], l1[2][0], l2[2][0]], ['Default C', 'Low C', 'Hi C'])\n",
    "plt.xlabel('Weight Value')\n",
    "plt.ylabel('Weight Count')\n",
    "plt.title('Weight Histogram -- L2 Reg.')\n",
    "\n",
    "\n",
    "#the weights of the low C (more heavily regularized) classifier are more close to 0\n",
    "#while weights of the hi C (more heavily regularized) classifier are more larger\n",
    "# ... as expected"
   ]
  },
  {
   "cell_type": "markdown",
   "metadata": {
    "deletable": true,
    "editable": true
   },
   "source": [
    "### Effect of regularization constant -- L1 regularization"
   ]
  },
  {
   "cell_type": "code",
   "execution_count": 18,
   "metadata": {
    "collapsed": false,
    "deletable": true,
    "editable": true
   },
   "outputs": [],
   "source": [
    "#Let's compare what happens to the weights at different values of the regularization\n",
    "\n",
    "splits = cv.get_splits(meta_array, \n",
    "                        lambda x: x['object_name'],  #we're balancing splits by object\n",
    "                        5,  \n",
    "                        5,  \n",
    "                        35,  \n",
    "                        train_filter=lambda x: (x['variation_level'] == 'V3'),\n",
    "                        test_filter=lambda x: (x['variation_level'] == 'V3')\n",
    "                       )\n",
    "\n",
    "results_defaultC_l1, _ig = cv.train_and_test_scikit_classifier(features=Neural_Data, \n",
    "                                               labels=meta_array['category'],\n",
    "                                               splits=splits,\n",
    "                                               model_class=LinearSVC,\n",
    "                                               model_args={'C': 1,\n",
    "                                                           'penalty': 'l1', \n",
    "                                                           'dual': False},\n",
    "                                               return_models=True\n",
    "                                              )\n",
    "\n",
    "results_lowC_l1, _ig = cv.train_and_test_scikit_classifier(features=Neural_Data, \n",
    "                                               labels=meta_array['category'],\n",
    "                                               splits=splits,\n",
    "                                               model_class=LinearSVC,\n",
    "                                               model_args={'C':5e-3,\n",
    "                                                           'penalty': 'l1', \n",
    "                                                           'dual': False},\n",
    "                                               return_models=True\n",
    "                                              )\n",
    "\n",
    "results_hiC_l1, _ig = cv.train_and_test_scikit_classifier(features=Neural_Data, \n",
    "                                               labels=meta_array['category'],\n",
    "                                               splits=splits,\n",
    "                                               model_class=LinearSVC,\n",
    "                                               model_args={'C':5e3,\n",
    "                                                           'penalty': 'l1', \n",
    "                                                           'dual': False},\n",
    "                                               return_models=True\n",
    "                                              )\n",
    "\n",
    "trained_model_defaultC_l1 = results_defaultC_l1['models'][0]\n",
    "trained_model_lowC_l1 = results_lowC_l1['models'][0]\n",
    "trained_model_hiC_l1 = results_hiC_l1['models'][0]"
   ]
  },
  {
   "cell_type": "code",
   "execution_count": 19,
   "metadata": {
    "collapsed": false,
    "deletable": true,
    "editable": true
   },
   "outputs": [
    {
     "data": {
      "text/plain": [
       "<matplotlib.text.Text at 0x7fa6323c4890>"
      ]
     },
     "execution_count": 19,
     "metadata": {},
     "output_type": "execute_result"
    },
    {
     "data": {
      "image/png": "[encoded data removed]",
      "text/plain": [
       "<matplotlib.figure.Figure at 0x7fa6580ead50>"
      ]
     },
     "metadata": {},
     "output_type": "display_data"
    },
    {
     "data": {
      "text/plain": [
       "<matplotlib.figure.Figure at 0x7fa6580ea810>"
      ]
     },
     "metadata": {},
     "output_type": "display_data"
    },
    {
     "data": {
      "image/png": "[encoded data removed]",
      "text/plain": [
       "<matplotlib.figure.Figure at 0x7fa63255ef10>"
      ]
     },
     "metadata": {},
     "output_type": "display_data"
    },
    {
     "data": {
      "text/plain": [
       "<matplotlib.figure.Figure at 0x7fa63255ef50>"
      ]
     },
     "metadata": {},
     "output_type": "display_data"
    },
    {
     "data": {
      "image/png": "[encoded data removed]",
      "text/plain": [
       "<matplotlib.figure.Figure at 0x7fa6324b0750>"
      ]
     },
     "metadata": {},
     "output_type": "display_data"
    },
    {
     "data": {
      "image/png": "[encoded data removed]",
      "text/plain": [
       "<matplotlib.figure.Figure at 0x7fa6324b0650>"
      ]
     },
     "metadata": {},
     "output_type": "display_data"
    }
   ],
   "source": [
    "weights_defaultC_l1 = trained_model_defaultC_l1.coef_\n",
    "plt.matshow(weights_defaultC_l1)\n",
    "\n",
    "plt.figure()\n",
    "weights_lowC_l1 = trained_model_lowC_l1.coef_\n",
    "plt.matshow(trained_model_lowC_l1.coef_)\n",
    "\n",
    "plt.figure()\n",
    "weights_hiC_l1 = trained_model_hiC_l1.coef_\n",
    "plt.matshow(trained_model_hiC_l1.coef_)\n",
    "\n",
    "\n",
    "plt.figure()\n",
    "l2 = plt.hist(weights_hiC_l1.ravel(), bins=10);\n",
    "l0 = plt.hist(weights_defaultC_l1.ravel(), bins=10);\n",
    "l1 = plt.hist(weights_lowC_l1.ravel(), bins=10);\n",
    "plt.legend([l0[2][0], l1[2][0], l2[2][0]], ['Default C', 'Low C', 'Hi C'])\n",
    "plt.xlabel('Weight Value')\n",
    "plt.ylabel('Weight Count')\n",
    "plt.title('Weight historgrams -- L1 reg.')\n",
    "\n",
    "\n",
    "#the weights of the low C (more heavily regularized) classifier are more close to 0\n",
    "#while weights of the hi C (more heavily regularized) classifier are more larger\n",
    "# ... as expected"
   ]
  },
  {
   "cell_type": "code",
   "execution_count": 20,
   "metadata": {
    "collapsed": false,
    "deletable": true,
    "editable": true
   },
   "outputs": [],
   "source": [
    "stats.kurtosis?"
   ]
  },
  {
   "cell_type": "code",
   "execution_count": 21,
   "metadata": {
    "collapsed": false,
    "deletable": true,
    "editable": true
   },
   "outputs": [
    {
     "data": {
      "text/plain": [
       "3.2815658559973233"
      ]
     },
     "execution_count": 21,
     "metadata": {},
     "output_type": "execute_result"
    }
   ],
   "source": [
    "#check out kurtosis of weight distributio with L2-reg (C=5e-3)\n",
    "stats.kurtosis(weights_lowC.ravel())"
   ]
  },
  {
   "cell_type": "code",
   "execution_count": 22,
   "metadata": {
    "collapsed": false,
    "deletable": true,
    "editable": true
   },
   "outputs": [
    {
     "data": {
      "text/plain": [
       "85.97650435632669"
      ]
     },
     "execution_count": 22,
     "metadata": {},
     "output_type": "execute_result"
    }
   ],
   "source": [
    "#check out kurtosis of weight distributio with L1-reg (C=5e-3)\n",
    "stats.kurtosis(weights_lowC_l1.ravel())"
   ]
  },
  {
   "cell_type": "code",
   "execution_count": 23,
   "metadata": {
    "collapsed": false,
    "deletable": true,
    "editable": true
   },
   "outputs": [
    {
     "data": {
      "text/plain": [
       "<matplotlib.legend.Legend at 0x7fa65b941950>"
      ]
     },
     "execution_count": 23,
     "metadata": {},
     "output_type": "execute_result"
    },
    {
     "data": {
      "image/png": "[encoded data removed]",
      "text/plain": [
       "<matplotlib.figure.Figure at 0x7fa6580daad0>"
      ]
     },
     "metadata": {},
     "output_type": "display_data"
    }
   ],
   "source": [
    "kurt = lambda x: stats.kurtosis(x.ravel())\n",
    "\n",
    "kurtoses_l2 = map(kurt, [weights_lowC, weights_defaultC, weights_hiC])\n",
    "kurtoses_l1 = map(kurt, [weights_lowC_l1, weights_defaultC_l1, weights_hiC_l1])\n",
    "\n",
    "l0 = plt.plot([5e-3, 1, 5e3], kurtoses_l2)\n",
    "l1 = plt.plot([5e-3, 1, 5e3], kurtoses_l1)\n",
    "ax = plt.gca()\n",
    "ax.set_xscale('log')\n",
    "ax.set_yscale('log')\n",
    "plt.xlabel('Regularization Constant (C)')\n",
    "plt.ylabel('Weight Sparsity')\n",
    "plt.title('C vs Sparsity')\n",
    "plt.legend([l0[0], l1[0]], ['L2-Reg', 'L1-Reg'])"
   ]
  },
  {
   "cell_type": "code",
   "execution_count": 24,
   "metadata": {
    "collapsed": false,
    "deletable": true,
    "editable": true
   },
   "outputs": [
    {
     "data": {
      "text/plain": [
       "<matplotlib.text.Text at 0x7fa632650a90>"
      ]
     },
     "execution_count": 24,
     "metadata": {},
     "output_type": "execute_result"
    },
    {
     "data": {
      "image/png": "[encoded data removed]",
      "text/plain": [
       "<matplotlib.figure.Figure at 0x7fa613a127d0>"
      ]
     },
     "metadata": {},
     "output_type": "display_data"
    }
   ],
   "source": [
    "plt.scatter(weights_lowC.ravel(), \n",
    "            weights_lowC_l1.ravel())\n",
    "plt.xlabel('L2 weights', fontsize=15)\n",
    "plt.ylabel('L1 weights', fontsize=15)\n",
    "plt.title('L1 vs L2 reg. weights', fontsize=15)"
   ]
  },
  {
   "cell_type": "code",
   "execution_count": 25,
   "metadata": {
    "collapsed": false,
    "deletable": true,
    "editable": true
   },
   "outputs": [
    {
     "name": "stdout",
     "output_type": "stream",
     "text": [
      "(0.760625, 0.805, 0.771875)\n",
      "(0.8568750000000002, 0.7781249999999998, 0.760625)\n"
     ]
    }
   ],
   "source": [
    "print(results_lowC_l1['test']['mean_accuracy'],\n",
    "      results_defaultC_l1['test']['mean_accuracy'],\n",
    "      results_hiC_l1['test']['mean_accuracy'])\n",
    "      \n",
    "print(results_lowC['test']['mean_accuracy'],\n",
    "      results_defaultC['test']['mean_accuracy'],\n",
    "      results_hiC['test']['mean_accuracy'])"
   ]
  },
  {
   "cell_type": "markdown",
   "metadata": {
    "deletable": true,
    "editable": true
   },
   "source": [
    "### Systematic Comparison Across Regularization Constant"
   ]
  },
  {
   "cell_type": "code",
   "execution_count": 26,
   "metadata": {
    "collapsed": false,
    "deletable": true,
    "editable": true
   },
   "outputs": [],
   "source": [
    "#Let's look at performance (training AND testing) as a function of regularization constant\n",
    "splits = cv.get_splits(meta_array, \n",
    "                        lambda x: x['object_name'],  #we're balancing splits by object\n",
    "                        5,  \n",
    "                        5,  \n",
    "                        35,  \n",
    "                        train_filter=lambda x: (x['variation_level'] == 'V3'),\n",
    "                        test_filter=lambda x: (x['variation_level'] == 'V3')\n",
    "                       )\n",
    "\n",
    "cvals = [1e-8, 1e-7, 1e-6, 1e-5, 1e-4, 1e-3, 1e-2, 1e-1, \n",
    "         1e0, 1e1, 1e2, 1e3, 1e4, 1e5, 1e6, 1e7, 1e8]\n",
    "\n",
    "def get_C_curve():\n",
    "    results = {}\n",
    "    for cval in cvals:\n",
    "        print('Getting results for cval=%f' % cval)\n",
    "        results[cval] = cv.train_and_test_scikit_classifier(features=Neural_Data, \n",
    "                                               labels=meta_array['category'],\n",
    "                                               splits=splits,\n",
    "                                               model_class=LinearSVC,\n",
    "                                               model_args={'C': cval}\n",
    "                                              )\n",
    "    return results"
   ]
  },
  {
   "cell_type": "code",
   "execution_count": 27,
   "metadata": {
    "collapsed": false,
    "deletable": true,
    "editable": true
   },
   "outputs": [
    {
     "name": "stdout",
     "output_type": "stream",
     "text": [
      "Getting results for cval=0.000000\n",
      "Getting results for cval=0.000000\n",
      "Getting results for cval=0.000001\n",
      "Getting results for cval=0.000010\n",
      "Getting results for cval=0.000100\n",
      "Getting results for cval=0.001000\n",
      "Getting results for cval=0.010000\n",
      "Getting results for cval=0.100000\n",
      "Getting results for cval=1.000000\n",
      "Getting results for cval=10.000000\n",
      "Getting results for cval=100.000000\n",
      "Getting results for cval=1000.000000\n",
      "Getting results for cval=10000.000000\n",
      "Getting results for cval=100000.000000\n",
      "Getting results for cval=1000000.000000\n",
      "Getting results for cval=10000000.000000\n",
      "Getting results for cval=100000000.000000\n"
     ]
    }
   ],
   "source": [
    "results_C_curve = get_C_curve()"
   ]
  },
  {
   "cell_type": "code",
   "execution_count": 28,
   "metadata": {
    "collapsed": false,
    "deletable": true,
    "editable": true
   },
   "outputs": [
    {
     "data": {
      "text/plain": [
       "<matplotlib.text.Text at 0x7fa6326c1950>"
      ]
     },
     "execution_count": 28,
     "metadata": {},
     "output_type": "execute_result"
    },
    {
     "data": {
      "image/png": "[encoded data removed]",
      "text/plain": [
       "<matplotlib.figure.Figure at 0x7fa6510a8c90>"
      ]
     },
     "metadata": {},
     "output_type": "display_data"
    }
   ],
   "source": [
    "test_acc_curve = np.array([np.mean(results_C_curve[_cv][0]['test']['accuracy_by_split']) for _cv in cvals])\n",
    "test_acc_std = np.array([np.std(results_C_curve[_cv][0]['test']['accuracy_by_split']) for _cv in cvals])\n",
    "\n",
    "l0 = plt.semilogx(cvals, test_acc_curve)\n",
    "plt.fill_between(cvals, test_acc_curve - test_acc_std, test_acc_curve + test_acc_std, alpha=.2)\n",
    "\n",
    "optimal = test_acc_curve.argmax()\n",
    "optperf = test_acc_curve.max()\n",
    "plt.axvline(cvals[optimal])\n",
    "plt.annotate('Optimal test performance of %.3f\\nat C=%.3f' % (optperf, cvals[optimal]), \n",
    "             xy=(cvals[optimal], test_acc_curve[optimal]),\n",
    "             xytext=(cvals[optimal]+.1, test_acc_curve[optimal]+.05),\n",
    "             arrowprops=dict(linewidth=0.5, facecolor='black', shrink=0.05))\n",
    "    \n",
    "\n",
    "train_acc_curve = np.array([np.mean(results_C_curve[_cv][0]['train']['accuracy_by_split']) for _cv in cvals])\n",
    "train_acc_std = np.array([np.std(results_C_curve[_cv][0]['train']['accuracy_by_split']) for _cv in cvals])\n",
    "\n",
    "l1 = plt.semilogx(cvals, train_acc_curve)\n",
    "plt.fill_between(cvals, train_acc_curve - train_acc_std, train_acc_curve + train_acc_std, alpha=.2, color='g')\n",
    "\n",
    "plt.xlabel('Value of C (bigger = less regularization)')\n",
    "plt.ylabel('Performance on 8-way task\\n(at Variation V3 images)')\n",
    "plt.legend([l0[0], l1[0]], ['test', 'train'], loc='lower right')\n",
    "plt.title('Regularization Curve for L2-SVM')\n",
    "\n",
    "#OK, we see that\n",
    "#  (1) training and testing are both poor at very high levels of regularization (low C)\n",
    "#  (2) training performance increases monotonically as regularization decreases, \n",
    "#      converging to ceiling levels at very high values of C\n",
    "#  (3) overfitting (gap between green and blue) increases as regularization decreases\n",
    "#  (4) most important: there is an *optimal* level of regularization from a testing perspective"
   ]
  },
  {
   "cell_type": "code",
   "execution_count": 29,
   "metadata": {
    "collapsed": true,
    "deletable": true,
    "editable": true
   },
   "outputs": [],
   "source": [
    "#Let's look at performance (training AND testing) as a function of regularization constant\n",
    "splits = cv.get_splits(meta_array, \n",
    "                        lambda x: x['object_name'],  #we're balancing splits by object\n",
    "                        5,  \n",
    "                        5,  \n",
    "                        35,  \n",
    "                        train_filter=lambda x: (x['variation_level'] == 'V3'),\n",
    "                        test_filter=lambda x: (x['variation_level'] == 'V3')\n",
    "                       )\n",
    "\n",
    "cvals = [1e-8, 1e-7, 1e-6, 1e-5, 1e-4, 1e-3, 1e-2, 1e-1, \n",
    "         1e0, 1e1, 1e2, 1e3, 1e4, 1e5, 1e6, 1e7, 1e8]\n",
    "\n",
    "def get_C_curve_l1():\n",
    "    results = {}\n",
    "    for cval in cvals:\n",
    "        print('Getting results for cval=%f' % cval)\n",
    "        results[cval] = cv.train_and_test_scikit_classifier(features=Neural_Data, \n",
    "                                               labels=meta_array['category'],\n",
    "                                               splits=splits,\n",
    "                                               model_class=LinearSVC,\n",
    "                                               model_args={'C': cval,\n",
    "                                                           'penalty': 'l1',\n",
    "                                                           'dual': False}\n",
    "                                              )\n",
    "    return results"
   ]
  },
  {
   "cell_type": "code",
   "execution_count": 30,
   "metadata": {
    "collapsed": false,
    "deletable": true,
    "editable": true
   },
   "outputs": [
    {
     "name": "stdout",
     "output_type": "stream",
     "text": [
      "Getting results for cval=0.000000\n",
      "Getting results for cval=0.000000\n",
      "Getting results for cval=0.000001\n",
      "Getting results for cval=0.000010\n",
      "Getting results for cval=0.000100\n",
      "Getting results for cval=0.001000\n",
      "Getting results for cval=0.010000\n",
      "Getting results for cval=0.100000\n",
      "Getting results for cval=1.000000\n",
      "Getting results for cval=10.000000\n",
      "Getting results for cval=100.000000\n",
      "Getting results for cval=1000.000000\n",
      "Getting results for cval=10000.000000\n",
      "Getting results for cval=100000.000000\n",
      "Getting results for cval=1000000.000000\n",
      "Getting results for cval=10000000.000000\n",
      "Getting results for cval=100000000.000000\n"
     ]
    }
   ],
   "source": [
    "results_C_curve_l1 = get_C_curve_l1()"
   ]
  },
  {
   "cell_type": "code",
   "execution_count": 31,
   "metadata": {
    "collapsed": false,
    "deletable": true,
    "editable": true
   },
   "outputs": [
    {
     "data": {
      "text/plain": [
       "<matplotlib.text.Text at 0x7fa651066d90>"
      ]
     },
     "execution_count": 31,
     "metadata": {},
     "output_type": "execute_result"
    },
    {
     "data": {
      "image/png": "[encoded data removed]",
      "text/plain": [
       "<matplotlib.figure.Figure at 0x7fa63226e9d0>"
      ]
     },
     "metadata": {},
     "output_type": "display_data"
    }
   ],
   "source": [
    "test_acc_curve_l1 = np.array([np.mean(results_C_curve_l1[_cv][0]['test']['accuracy_by_split']) for _cv in cvals])\n",
    "test_acc_std_l1 = np.array([np.std(results_C_curve_l1[_cv][0]['test']['accuracy_by_split']) for _cv in cvals])\n",
    "\n",
    "l0 = plt.semilogx(cvals, test_acc_curve_l1)\n",
    "plt.fill_between(cvals, \n",
    "                 test_acc_curve_l1 - test_acc_std_l1, \n",
    "                 test_acc_curve_l1 + test_acc_std_l1, \n",
    "                 alpha=.2)\n",
    "\n",
    "optimal = test_acc_curve_l1.argmax()\n",
    "optperf = test_acc_curve_l1.max()\n",
    "\n",
    "plt.axvline(cvals[optimal])\n",
    "plt.annotate('Optimal test performance of %.3f\\nat C=%.3f' % (optperf, cvals[optimal]), \n",
    "             xy=(cvals[optimal], test_acc_curve_l1[optimal]),\n",
    "             xytext=(cvals[optimal]+.1, test_acc_curve_l1[optimal]+.05),\n",
    "             arrowprops=dict(linewidth=0.5, facecolor='black', shrink=0.05))\n",
    "    \n",
    "\n",
    "train_acc_curve_l1 = np.array([np.mean(results_C_curve_l1[_cv][0]['train']['accuracy_by_split']) for _cv in cvals])\n",
    "train_acc_std_l1 = np.array([np.std(results_C_curve_l1[_cv][0]['train']['accuracy_by_split']) for _cv in cvals])\n",
    "\n",
    "l1 = plt.semilogx(cvals, train_acc_curve_l1)\n",
    "plt.fill_between(cvals, \n",
    "                 train_acc_curve_l1 - train_acc_std_l1,\n",
    "                 train_acc_curve_l1 + train_acc_std_l1, alpha=.2, color='g')\n",
    "\n",
    "plt.xlabel('Value of C (bigger = less regularization)')\n",
    "plt.ylabel('Performance on 8-way task\\n(at Variation V3 images)')\n",
    "plt.legend([l0[0], l1[0]], ['test', 'train'], loc='lower right')\n",
    "plt.title('Regularization Curve for L1-SVM')\n",
    "\n",
    "#OK, we see that\n",
    "#  (1) training and testing are both poor at very high levels of regularization (low C)\n",
    "#  (2) training performance increases monotonically as regularization decreases, \n",
    "#      converging to ceiling levels at very high values of C\n",
    "#  (3) overfitting (gap between green and blue) increases as regularization decreases\n",
    "#  (4) most important: there is an *optimal* level of regularization from a testing perspective"
   ]
  },
  {
   "cell_type": "markdown",
   "metadata": {
    "deletable": true,
    "editable": true
   },
   "source": [
    "### Cross-Validating your regularization parameter"
   ]
  },
  {
   "cell_type": "code",
   "execution_count": 32,
   "metadata": {
    "collapsed": false,
    "deletable": true,
    "editable": true
   },
   "outputs": [],
   "source": [
    "#let's use the built-in GridSearch facility to make it easy to do\n",
    "#search for the C parameter\n",
    "\n",
    "splits = cv.get_splits(meta_array, \n",
    "                        lambda x: x['object_name'],  #we're balancing splits by object\n",
    "                        2,  \n",
    "                        5,  \n",
    "                        35,  \n",
    "                        train_filter=lambda x: (x['variation_level'] == 'V3'),\n",
    "                        test_filter=lambda x: (x['variation_level'] == 'V3')\n",
    "                       )\n",
    "\n",
    "#ok notice that now instead of passing model_args#\n",
    "#we're passing gridcv_params\n",
    "gridCV_res = cv.train_and_test_scikit_classifier(features=Neural_Data, \n",
    "                                 labels=meta_array['category'],\n",
    "                                 splits=splits,\n",
    "                                 model_class=LinearSVC,\n",
    "                                 gridcv_params={'C': [1e-8, 1e-7, 1e-6, 1e-5, 1e-4, \n",
    "                                                      1e-3, 1e-2, 1e-1, 1e0, 1e1, 1e2, \n",
    "                                                      1e3, 1e4, 1e5, 1e6, 1e7, 1e8]},\n",
    "                                 return_models=True\n",
    "                                 )"
   ]
  },
  {
   "cell_type": "code",
   "execution_count": 33,
   "metadata": {
    "collapsed": false,
    "deletable": true,
    "editable": true
   },
   "outputs": [
    {
     "name": "stdout",
     "output_type": "stream",
     "text": [
      "Cross-validated search for C value accuracy: 85.94%\n",
      "('Chosen cvals:', [0.001, 0.001])\n"
     ]
    }
   ],
   "source": [
    "#OK, how well do this do?\n",
    "acc = gridCV_res[0]['test']['mean_accuracy']\n",
    "print(\"Cross-validated search for C value accuracy: %.2f%%\" % (100 * acc))\n",
    "#ok not bad!\n",
    "#And what value of C did it come up with? \n",
    "chosen_cvals = [_m.best_estimator_.C for _m in gridCV_res[0]['models']]\n",
    "print('Chosen cvals:', chosen_cvals)\n",
    "#Ah, it found the same one we did (1e-3) on both splits we tried"
   ]
  },
  {
   "cell_type": "markdown",
   "metadata": {
    "collapsed": true,
    "deletable": true,
    "editable": true
   },
   "source": [
    "## Regularized Regression"
   ]
  },
  {
   "cell_type": "code",
   "execution_count": 34,
   "metadata": {
    "collapsed": true
   },
   "outputs": [],
   "source": [
    "#ok let's import the LinearRegression class (this is ordinary least squares regression)\n",
    "from sklearn.linear_model import LinearRegression"
   ]
  },
  {
   "cell_type": "code",
   "execution_count": 35,
   "metadata": {
    "collapsed": true
   },
   "outputs": [],
   "source": [
    "def rsquared(predicted, actual):\n",
    "    \"\"\"The \"rsquared\" metric\n",
    "    \"\"\"\n",
    "    a_mean = actual.mean()\n",
    "    num = np.linalg.norm(actual - predicted)**2\n",
    "    denom = np.linalg.norm(actual - a_mean)**2\n",
    "    return 1 - num / denom\n"
   ]
  },
  {
   "cell_type": "code",
   "execution_count": 36,
   "metadata": {
    "collapsed": false
   },
   "outputs": [
    {
     "data": {
      "text/plain": [
       "[<matplotlib.lines.Line2D at 0x7fa6325aed10>]"
      ]
     },
     "execution_count": 36,
     "metadata": {},
     "output_type": "execute_result"
    },
    {
     "data": {
      "image/png": "[encoded data removed]",
      "text/plain": [
       "<matplotlib.figure.Figure at 0x7fa634b55450>"
      ]
     },
     "metadata": {},
     "output_type": "display_data"
    }
   ],
   "source": [
    "data = np.arange(-10, 10, .1)\n",
    "plt.plot(data, np.sin(data))"
   ]
  },
  {
   "cell_type": "code",
   "execution_count": 37,
   "metadata": {
    "collapsed": false
   },
   "outputs": [
    {
     "data": {
      "image/png": "[encoded data removed]",
      "text/plain": [
       "<matplotlib.figure.Figure at 0x7fa6324af990>"
      ]
     },
     "metadata": {},
     "output_type": "display_data"
    }
   ],
   "source": [
    "#Let's regress the sine function\n",
    "func = np.sin\n",
    "\n",
    "#we'll train on data range 1\n",
    "data1 = np.arange(-1, 1, .1)\n",
    "#and test on data range 2\n",
    "data2 = np.arange(1, 5, .1)\n",
    "y1 = func(data1)\n",
    "y2 = func(data2)\n",
    "\n",
    "#we'll allow predictors up to the 4th power e.g. \n",
    "#4th-order polynomials\n",
    "polyorder = 4\n",
    "regressors1 = np.array([data1**i for i in range(polyorder)]).T\n",
    "regressors2 = np.array([data2**i for i in range(polyorder)]).T\n",
    "#construct regressors all in one matrix and then subselect the data\n",
    "#for the two ranges\n",
    "\n",
    "#now let's fit the model \n",
    "model = LinearRegression()\n",
    "model.fit(regressors1, y1)\n",
    "\n",
    "#coefficients of the model recover the taylor series of func\n",
    "\n",
    "#and get its predictions both on datarange 1 and datarange 2\n",
    "predictions1 = model.predict(regressors1) #training data range\n",
    "predictions2 = model.predict(regressors2) #testing data range\n",
    "\n",
    "#and let's look at the correlation metric\n",
    "corr1 = stats.pearsonr(y1, predictions1)[0]\n",
    "corr2 = stats.pearsonr(y2, predictions2)[0]\n",
    "\n",
    "#as well as the rsquared metric\n",
    "rs1 = rsquared(y1, predictions1)\n",
    "rs2 = rsquared(y2, predictions2)\n",
    " \n",
    "fig = plt.figure(figsize=(8, 8))\n",
    "plt.subplot(2, 2, 1)\n",
    "plt.plot(data1, y1)\n",
    "plt.title('Training Data')\n",
    "plt.subplot(2, 2, 2)\n",
    "plt.plot(data1, y1)\n",
    "plt.plot(data2, y2, color='r')\n",
    "plt.title('Testing Data (red)')\n",
    "plt.subplot(2, 2, 3)\n",
    "plt.plot(data1, y1)\n",
    "plt.plot(data1, predictions1)\n",
    "plt.title('on train: corr=%.3f,\\nrsquared=%.3f' % (corr1, rs1))\n",
    "plt.subplot(2, 2, 4)\n",
    "plt.plot(data2, y2)\n",
    "plt.plot(data2, predictions2)\n",
    "plt.title('on test: corr=%.3f,\\nrsquared=%.3f' % (corr2, rs2))\n",
    "\n",
    "plt.subplots_adjust(hspace=.3)\n",
    "\n",
    "#the correlation metric is misleading. actually the rsquared metric is negative\n",
    "#which means that the testing data it would have been better to pick the mean\n",
    "#than to use the predictions here.  bad overfitting.  but not easily shown\n",
    "#by looking at the correlation metric"
   ]
  },
  {
   "cell_type": "code",
   "execution_count": 38,
   "metadata": {
    "collapsed": true
   },
   "outputs": [],
   "source": [
    "def evaluate_regression_results(predicted, actual):\n",
    "    \"\"\"computing various useful metrics for regression results\n",
    "    \"\"\"\n",
    "    result = {}\n",
    "    if actual.ndim > 1: #this is triggered if the prediction is of multiple outputs at once\n",
    "        result['pearson_array'] = np.array([stats.pearsonr(p, a)[0] for p, a in zip(predicted.T, actual.T)])\n",
    "        result['spearman_array'] = np.array([stats.spearmanr(p, a)[0] for p, a in zip(predicted.T, actual.T)])\n",
    "        result['rsquared_array'] = np.array([rsquared(p, a) for p, a in zip(predicted.T, actual.T)])\n",
    "        result['pearson'] = np.median(result['pearson_array'])\n",
    "        result['spearman'] = np.median(result['spearman_array'])\n",
    "        result['rsquared'] = np.median(result['rsquared_array'])\n",
    "    else:\n",
    "        result['pearson'] = stats.pearsonr(predicted, actual)[0]\n",
    "        result['spearman'] = stats.spearmanr(predicted, actual)[0]\n",
    "        result['rsquared'] = rsquared(predicted, actual)\n",
    "    return result\n",
    "\n",
    "def aggregate_regression_results(results_by_split):\n",
    "    \"\"\"convenience function aggregating results of regression tests over data splits\n",
    "    \"\"\"\n",
    "    results = {}\n",
    "    results['by_split'] = results_by_split\n",
    "    ns = len(results_by_split)\n",
    "    for k in results_by_split[0]:\n",
    "        arr = np.array([results_by_split[i][k] for i in range(ns)])\n",
    "        if arr.ndim == 1:\n",
    "            results['mean_' + k] = arr.mean()\n",
    "            results['std_' + k] = arr.std()\n",
    "        else:\n",
    "            results['mean_' + k] = arr.mean(axis=0)\n",
    "            results['std_' + k] = arr.std(axis=0)\n",
    "    return results\n"
   ]
  },
  {
   "cell_type": "code",
   "execution_count": 39,
   "metadata": {
    "collapsed": true
   },
   "outputs": [],
   "source": [
    "def train_and_test_scikit_regressor(features, \n",
    "                                    labels,\n",
    "                                    splits,\n",
    "                                    model_class,\n",
    "                                    model_args=None,\n",
    "                                    gridcv_params=None,\n",
    "                                    gridcv_args=None,\n",
    "                                    fit_args=None,\n",
    "                                    feature_norm=True,\n",
    "                                    return_models=False\n",
    "                                    ):\n",
    "    \"\"\"This function is very similar to the train_and_test_scikit_classifier function\n",
    "       except it is adapted for working with regressors.\n",
    "    \"\"\"\n",
    "\n",
    "    if model_args is None:\n",
    "        model_args = {}\n",
    "    if fit_args is None:\n",
    "        fit_args = {}\n",
    "    \n",
    "    training_sidedata = []\n",
    "   \n",
    "    models = []\n",
    "    train_results = []\n",
    "    test_results = []\n",
    "    \n",
    "    for split in splits:\n",
    "\n",
    "        #here we instantiate the general regressor whatever it is\n",
    "        model = model_class(**model_args)\n",
    "        if gridcv_params is not None:\n",
    "            if gridcv_args is None:\n",
    "                gridcv_args = {}\n",
    "            model = GridSearchCV(model, gridcv_params, **gridcv_args)\n",
    "            \n",
    "        #get the train/test split data\n",
    "        train_inds = split['train']\n",
    "        test_inds = split['test']\n",
    "        train_features = features[train_inds]\n",
    "        train_labels = labels[train_inds]\n",
    "        test_features = features[test_inds]\n",
    "        test_labels = labels[test_inds]\n",
    "\n",
    "        #train the model ...\n",
    "        if feature_norm:\n",
    "            train_features, fmean, fvar = featurewise_norm(train_features)\n",
    "            sidedata = {'fmean': fmean, 'fvar': fvar}\n",
    "            training_sidedata.append(sidedata)\n",
    "        model.fit(train_features, train_labels, **fit_args)\n",
    "        \n",
    "        #... and get training predictions and results\n",
    "        train_predictions = model.predict(train_features)\n",
    "        train_result = evaluate_regression_results(train_predictions, train_labels)\n",
    "        train_results.append(train_result)\n",
    "             \n",
    "        #test the model ... \n",
    "        if feature_norm:\n",
    "            test_features, _ignore, _ignore = featurewise_norm(test_features,\n",
    "                                                               fmean=fmean,\n",
    "                                                               fvar=fvar)\n",
    "        #... and get testing predictions and results\n",
    "        test_predictions = model.predict(test_features)\n",
    "        test_result = evaluate_regression_results(test_predictions, test_labels)\n",
    "        test_results.append(test_result)\n",
    "        \n",
    "        if return_models:\n",
    "            models.append(model)\n",
    "        \n",
    "    #aggregate results over splits\n",
    "    train_results = aggregate_regression_results(train_results)\n",
    "    test_results = aggregate_regression_results(test_results)\n",
    "    results = {'train': train_results,\n",
    "               'test': test_results,\n",
    "               'training_sidedata': training_sidedata}\n",
    "    if return_models:\n",
    "            results['models'] = models\n",
    "            \n",
    "    return results\n"
   ]
  },
  {
   "cell_type": "code",
   "execution_count": 40,
   "metadata": {
    "collapsed": true
   },
   "outputs": [],
   "source": [
    "from sklearn.linear_model import (Ridge, \n",
    "                                  RidgeCV, \n",
    "                                  Lasso, \n",
    "                                  LassoCV,\n",
    "                                  ElasticNet, \n",
    "                                  ElasticNetCV, \n",
    "                                  OrthogonalMatchingPursuit)\n",
    "\n",
    "from sklearn.kernel_ridge import KernelRidge\n",
    "\n",
    "from sklearn.svm import SVR"
   ]
  },
  {
   "cell_type": "code",
   "execution_count": 41,
   "metadata": {
    "collapsed": true
   },
   "outputs": [],
   "source": [
    "def test_regression_method(features, model_class, model_args, key):\n",
    "    splits = cv.get_splits(metadata=meta_array, \n",
    "                               split_by_func=lambda x: x['object_name'],  #we're balancing splits by object\n",
    "                               num_splits=5,  \n",
    "                               num_per_class_test=5,  \n",
    "                               num_per_class_train=75,\n",
    "                               train_filter=lambda x: x['variation_level'] != 'V0',\n",
    "                               test_filter=lambda x: x['variation_level']  != 'V0'\n",
    "                               )\n",
    "\n",
    "    t0 = time.time()\n",
    "    res = train_and_test_scikit_regressor(features=features, \n",
    "                                    labels=meta_array[key],\n",
    "                                    splits=splits,\n",
    "                                    model_class=model_class,\n",
    "                                    model_args=model_args,\n",
    "                                    feature_norm=False)\n",
    "    t1 = time.time() - t0\n",
    "    \n",
    "    rval = res['test']['mean_pearson']\n",
    "    rs = res['test']['mean_rsquared']\n",
    "    cname = str(model_class)\n",
    "    print('%s result on %s estimation: corr=%.3f, rsquared=%.3f; took %.3fs' % (cname, key, rval, rs, t1))    \n",
    "    \n",
    "    return res"
   ]
  },
  {
   "cell_type": "code",
   "execution_count": 45,
   "metadata": {
    "collapsed": true
   },
   "outputs": [],
   "source": [
    "Neural_Data = Ventral_Dataset['time_averaged_trial_averaged'][:]\n",
    "IT_NEURONS = Ventral_Dataset['neural_meta']['IT_NEURONS']\n",
    "V4_NEURONS = Ventral_Dataset['neural_meta']['V4_NEURONS']\n",
    "V4_Neural_Data = Neural_Data[:, V4_NEURONS]\n",
    "IT_Neural_Data = Neural_Data[:, IT_NEURONS]\n",
    "\n",
    "var_level = Ventral_Dataset['image_meta']['variation_level'][:]\n",
    "\n",
    "import time"
   ]
  },
  {
   "cell_type": "code",
   "execution_count": 46,
   "metadata": {
    "collapsed": false
   },
   "outputs": [
    {
     "name": "stdout",
     "output_type": "stream",
     "text": [
      "<class 'sklearn.linear_model.base.LinearRegression'> result on translation_y estimation: corr=0.612, rsquared=0.372; took 0.307s\n",
      "<class 'sklearn.linear_model.ridge.Ridge'> result on translation_y estimation: corr=0.612, rsquared=0.372; took 0.137s\n",
      "<class 'sklearn.linear_model.ridge.RidgeCV'> result on translation_y estimation: corr=0.613, rsquared=0.374; took 0.711s\n",
      "<class 'sklearn.linear_model.coordinate_descent.LassoCV'> result on translation_y estimation: corr=0.614, rsquared=0.375; took 3.652s\n",
      "<class 'sklearn.linear_model.coordinate_descent.ElasticNet'> result on translation_y estimation: corr=0.614, rsquared=0.376; took 0.832s\n",
      "<class 'sklearn.linear_model.coordinate_descent.ElasticNetCV'> result on translation_y estimation: corr=0.614, rsquared=0.375; took 3.684s\n",
      "<class 'sklearn.linear_model.omp.OrthogonalMatchingPursuit'> result on translation_y estimation: corr=0.592, rsquared=0.349; took 0.082s\n",
      "<class 'sklearn.svm.classes.SVR'> result on translation_y estimation: corr=0.609, rsquared=0.360; took 25.502s\n",
      "<class 'sklearn.kernel_ridge.KernelRidge'> result on translation_y estimation: corr=0.645, rsquared=0.414; took 9.166s\n"
     ]
    }
   ],
   "source": [
    "#ok let's check out the power of IT neural population data to regress y position \n",
    "#using a variety of regressor techniques\n",
    "res_ols = test_regression_method(IT_Neural_Data, LinearRegression, None, 'translation_y')\n",
    "res_ridge = test_regression_method(IT_Neural_Data, Ridge, {'alpha': 1e-3}, 'translation_y')\n",
    "res_ridgecv = test_regression_method(IT_Neural_Data, RidgeCV, None, 'translation_y')\n",
    "res_lassocv = test_regression_method(IT_Neural_Data, LassoCV, None, 'translation_y')\n",
    "res_elasticnet = test_regression_method(IT_Neural_Data, ElasticNet, {'alpha':1e-3, 'l1_ratio': .5}, 'translation_y')\n",
    "res_elasticnetcv = test_regression_method(IT_Neural_Data, ElasticNetCV, None, 'translation_y')\n",
    "res_omp = test_regression_method(IT_Neural_Data, OrthogonalMatchingPursuit, None, 'translation_y')\n",
    "res_svr = test_regression_method(IT_Neural_Data, SVR, {'C': 1e-1}, 'translation_y')\n",
    "res_knr = test_regression_method(IT_Neural_Data, KernelRidge, {'alpha': 5e-2, 'kernel':'rbf'}, 'translation_y')\n",
    "#looks like ridge is nearly the best and quite fast\n",
    "#kernel ridge is somewhat better but much slower\n",
    "#all the others methods aren't better"
   ]
  },
  {
   "cell_type": "code",
   "execution_count": 47,
   "metadata": {
    "collapsed": false
   },
   "outputs": [
    {
     "name": "stdout",
     "output_type": "stream",
     "text": [
      "<class 'sklearn.linear_model.base.LinearRegression'> result on rotation_xy estimation: corr=0.386, rsquared=0.145; took 0.241s\n",
      "<class 'sklearn.linear_model.ridge.Ridge'> result on rotation_xy estimation: corr=0.386, rsquared=0.145; took 0.071s\n",
      "<class 'sklearn.linear_model.ridge.RidgeCV'> result on rotation_xy estimation: corr=0.388, rsquared=0.147; took 0.613s\n",
      "<class 'sklearn.linear_model.coordinate_descent.LassoCV'> result on rotation_xy estimation: corr=0.367, rsquared=0.130; took 3.665s\n",
      "<class 'sklearn.linear_model.coordinate_descent.ElasticNet'> result on rotation_xy estimation: corr=0.386, rsquared=0.145; took 2.423s\n",
      "<class 'sklearn.linear_model.coordinate_descent.ElasticNetCV'> result on rotation_xy estimation: corr=0.383, rsquared=0.137; took 3.695s\n",
      "<class 'sklearn.linear_model.omp.OrthogonalMatchingPursuit'> result on rotation_xy estimation: corr=0.336, rsquared=0.110; took 0.074s\n",
      "<class 'sklearn.svm.classes.SVR'> result on rotation_xy estimation: corr=0.270, rsquared=0.019; took 39.955s\n",
      "<class 'sklearn.kernel_ridge.KernelRidge'> result on rotation_xy estimation: corr=0.489, rsquared=0.237; took 9.009s\n"
     ]
    }
   ],
   "source": [
    "#same conclusions for rotation around the xy axis\n",
    "res_ols_rxy = test_regression_method(IT_Neural_Data, LinearRegression, None, 'rotation_xy')\n",
    "res_ridge_rxy = test_regression_method(IT_Neural_Data, Ridge, {'alpha': 1e-3}, 'rotation_xy')\n",
    "res_ridgecv_rxy = test_regression_method(IT_Neural_Data, RidgeCV, None, 'rotation_xy')\n",
    "res_lassocv_rxy = test_regression_method(IT_Neural_Data, LassoCV, None, 'rotation_xy')\n",
    "res_elasticnet_rxy = test_regression_method(IT_Neural_Data, ElasticNet, {'alpha':1e-3, 'l1_ratio': .5}, 'rotation_xy')\n",
    "res_elasticnetcv_rxy = test_regression_method(IT_Neural_Data, ElasticNetCV, None, 'rotation_xy')\n",
    "res_omp_rxy = test_regression_method(IT_Neural_Data, OrthogonalMatchingPursuit, None, 'rotation_xy')\n",
    "res_svr_rxy = test_regression_method(IT_Neural_Data, SVR, {'C': 1e-1}, 'rotation_xy')\n",
    "res_knr_rxy = test_regression_method(IT_Neural_Data, KernelRidge, {'alpha': 5e-2, 'kernel':'rbf'}, 'rotation_xy')\n"
   ]
  },
  {
   "cell_type": "code",
   "execution_count": 48,
   "metadata": {
    "collapsed": false
   },
   "outputs": [
    {
     "name": "stdout",
     "output_type": "stream",
     "text": [
      "<class 'sklearn.linear_model.ridge.Ridge'> result on size estimation: corr=0.634, rsquared=0.400; took 0.071s\n",
      "<class 'sklearn.kernel_ridge.KernelRidge'> result on size estimation: corr=0.693, rsquared=0.479; took 8.949s\n"
     ]
    }
   ],
   "source": [
    "#and similar for the size variable\n",
    "res_ridge_size = test_regression_method(IT_Neural_Data, Ridge, {'alpha': 1e-3}, \n",
    "                                        'size')\n",
    "res_knr_size = test_regression_method(IT_Neural_Data, KernelRidge, \n",
    "                                      {'alpha': 5e-2, 'kernel':'rbf'}, 'size')"
   ]
  },
  {
   "cell_type": "code",
   "execution_count": 49,
   "metadata": {
    "collapsed": false
   },
   "outputs": [
    {
     "name": "stdout",
     "output_type": "stream",
     "text": [
      "<class 'sklearn.linear_model.ridge.Ridge'> result on translation_y estimation: corr=0.331, rsquared=0.105; took 0.060s\n",
      "<class 'sklearn.kernel_ridge.KernelRidge'> result on translation_y estimation: corr=0.356, rsquared=0.113; took 8.949s\n"
     ]
    }
   ],
   "source": [
    "#ok let's check out the power of V4 neural population data to regress y position \n",
    "res_ridge_V4 = test_regression_method(V4_Neural_Data, Ridge, {'alpha': 1e-3}, \n",
    "                                                              'translation_y')\n",
    "res_knr_V4 = test_regression_method(V4_Neural_Data, KernelRidge, {'alpha': 5e-2, \n",
    "                                                                  'kernel':'rbf'}, \n",
    "                                                                  'translation_y')\n",
    "#Ok, so V4 is substantially less good at estimating y position than IT"
   ]
  },
  {
   "cell_type": "code",
   "execution_count": 50,
   "metadata": {
    "collapsed": false
   },
   "outputs": [
    {
     "name": "stdout",
     "output_type": "stream",
     "text": [
      "<class 'sklearn.linear_model.ridge.Ridge'> result on rotation_xy estimation: corr=0.195, rsquared=0.030; took 0.061s\n",
      "<class 'sklearn.kernel_ridge.KernelRidge'> result on rotation_xy estimation: corr=0.173, rsquared=-0.009; took 8.982s\n"
     ]
    }
   ],
   "source": [
    "#and now let's look at V4's ability to regression xy rotation\n",
    "res_ridge_V4_rxy = test_regression_method(V4_Neural_Data, Ridge, {'alpha': 1e-3}, 'rotation_xy')\n",
    "res_knr_V4_rxy = test_regression_method(V4_Neural_Data, KernelRidge, {'alpha': 5e-2, 'kernel':'rbf'}, 'rotation_xy')\n",
    "#and again IT is better than V4 for xy-rotation"
   ]
  },
  {
   "cell_type": "code",
   "execution_count": 51,
   "metadata": {
    "collapsed": true
   },
   "outputs": [],
   "source": [
    "\"\"\"\n",
    "btw, this comparison showing that IT is better than V4 at linear regression of \n",
    "non-categorical (\"category-orthogonal\") properties is an important part of the results in:\n",
    "\n",
    "Hong, Ha, Daniel LK Yamins, Najib J. Majaj, and James J. DiCarlo. \n",
    "\"Explicit information for category-orthogonal object properties increases along the ventral stream.\" \n",
    "Nature neuroscience 19, no. 4 (2016): 613.\n",
    "\"\"\";"
   ]
  },
  {
   "cell_type": "code",
   "execution_count": 52,
   "metadata": {
    "collapsed": true
   },
   "outputs": [],
   "source": [
    "### Regressing IT from V4 "
   ]
  },
  {
   "cell_type": "code",
   "execution_count": 53,
   "metadata": {
    "collapsed": true
   },
   "outputs": [],
   "source": [
    "reg_splits = cv.get_splits(metadata=meta_array, \n",
    "                           split_by_func=lambda x: x['object_name'],  #we're balancing splits by object\n",
    "                           num_splits=5,  \n",
    "                           num_per_class_test=5,  \n",
    "                           num_per_class_train=75,\n",
    "                           train_filter=lambda x: x['variation_level'] in ['V3', 'V6'],\n",
    "                           test_filter=lambda x: x['variation_level'] in ['V3', 'V6']\n",
    "                           )"
   ]
  },
  {
   "cell_type": "code",
   "execution_count": 54,
   "metadata": {
    "collapsed": false
   },
   "outputs": [
    {
     "data": {
      "text/plain": [
       "0.3605052207273588"
      ]
     },
     "execution_count": 54,
     "metadata": {},
     "output_type": "execute_result"
    }
   ],
   "source": [
    "#Let's just look first at neuron 0\n",
    "res_v4_to_it_neuron0 = train_and_test_scikit_regressor(features=V4_Neural_Data, \n",
    "                                labels=IT_Neural_Data[:, 0],\n",
    "                                splits=reg_splits,\n",
    "                                model_class=RidgeCV,\n",
    "                                feature_norm=False)\n",
    "res_v4_to_it_neuron0['test']['mean_pearson']"
   ]
  },
  {
   "cell_type": "code",
   "execution_count": 55,
   "metadata": {
    "collapsed": false
   },
   "outputs": [
    {
     "data": {
      "text/plain": [
       "[<matplotlib.lines.Line2D at 0x7fa63a3aea50>]"
      ]
     },
     "execution_count": 55,
     "metadata": {},
     "output_type": "execute_result"
    },
    {
     "data": {
      "image/png": "[encoded data removed]",
      "text/plain": [
       "<matplotlib.figure.Figure at 0x7fa613792fd0>"
      ]
     },
     "metadata": {},
     "output_type": "display_data"
    }
   ],
   "source": [
    "plt.plot(IT_Neural_Data[:, 0])"
   ]
  },
  {
   "cell_type": "code",
   "execution_count": 56,
   "metadata": {
    "collapsed": true
   },
   "outputs": [],
   "source": [
    "#ok so let's get all neurons from V4 to IT\n",
    "res_V4_IT = [train_and_test_scikit_regressor(features=V4_Neural_Data, \n",
    "                                labels=IT_Neural_Data[:, i],\n",
    "                                splits=reg_splits,\n",
    "                                model_class=RidgeCV,\n",
    "                                feature_norm=False) for i in range(IT_Neural_Data.shape[1])]\n"
   ]
  },
  {
   "cell_type": "code",
   "execution_count": 57,
   "metadata": {
    "collapsed": true
   },
   "outputs": [],
   "source": [
    "#and from IT to V4\n",
    "#this is not \"physical\" (or maybe it is?  recurrence?)\n",
    "res_IT_V4 = [train_and_test_scikit_regressor(features=IT_Neural_Data, \n",
    "                                labels=V4_Neural_Data[:, i],\n",
    "                                splits=reg_splits,\n",
    "                                model_class=RidgeCV,\n",
    "                                feature_norm=False) for i in range(V4_Neural_Data.shape[1])]\n"
   ]
  },
  {
   "cell_type": "code",
   "execution_count": 58,
   "metadata": {
    "collapsed": false
   },
   "outputs": [
    {
     "data": {
      "text/plain": [
       "<matplotlib.text.Text at 0x7fa63a1390d0>"
      ]
     },
     "execution_count": 58,
     "metadata": {},
     "output_type": "execute_result"
    },
    {
     "data": {
      "image/png": "[encoded data removed]",
      "text/plain": [
       "<matplotlib.figure.Figure at 0x7fa613401650>"
      ]
     },
     "metadata": {},
     "output_type": "display_data"
    }
   ],
   "source": [
    "v4toit_ridgecv = [r['test']['mean_pearson'] for r in res_V4_IT]\n",
    "ittov4_ridgecv = [r['test']['mean_pearson'] for r in res_IT_V4]\n",
    "med_v4toit_ridgecv = np.median(v4toit_ridgecv) \n",
    "med_ittov4_ridgecv = np.median(ittov4_ridgecv) \n",
    "\n",
    "plt.figure(figsize=(10, 5))\n",
    "plt.subplot(1, 2, 1)\n",
    "plt.hist(v4toit_ridgecv)\n",
    "plt.title('Median V4-to-IT: %.3f' % med_v4toit_ridgecv)\n",
    "plt.subplot(1, 2, 2)\n",
    "plt.hist(ittov4_ridgecv )\n",
    "plt.title('Median IT-to-V4: %.3f' % med_ittov4_ridgecv)\n",
    "\n"
   ]
  },
  {
   "cell_type": "code",
   "execution_count": 59,
   "metadata": {
    "collapsed": true
   },
   "outputs": [],
   "source": [
    "def idfunc(x):\n",
    "    return x\n",
    "\n",
    "def pearsonr(a, b):\n",
    "    return stats.pearsonr(a, b)[0]\n",
    "\n",
    "def spearmanr(a, b):\n",
    "    return stats.spearmanr(a, b)[0]\n",
    "\n",
    "def split_half_correlation(datas_by_trial,\n",
    "                           num_splits,\n",
    "                           aggfunc=idfunc,\n",
    "                           statfunc=pearsonr):\n",
    "    \"\"\"\n",
    "    Similar to split-half calculation from lecture 2, \n",
    "    but now allowing various aggregation and statistical comparison \n",
    "    functions\n",
    "    \"\"\"\n",
    "        \n",
    "    random_number_generator = np.random.RandomState(seed=0)\n",
    "\n",
    "    corrvals = []\n",
    "    for split_index in range(num_splits):\n",
    "        stats1 = []\n",
    "        stats2 = []\n",
    "        for data in datas_by_trial:\n",
    "            #get total number of trials\n",
    "            num_trials = data.shape[0]\n",
    "\n",
    "            #construct a new permutation of the trial indices\n",
    "            perm = random_number_generator.permutation(num_trials)\n",
    "\n",
    "            #take the first num_trials/2 and second num_trials/2 pieces of the data\n",
    "            first_half_of_trial_indices = perm[:num_trials / 2]\n",
    "            second_half_of_trial_indices = perm[num_trials / 2: num_trials]\n",
    "\n",
    "            #mean over trial dimension\n",
    "            s1 = aggfunc(data[first_half_of_trial_indices].mean(axis=0))\n",
    "            s2 = aggfunc(data[second_half_of_trial_indices].mean(axis=0))\n",
    "            stats1.extend(s1)\n",
    "            stats2.extend(s2)\n",
    "        \n",
    "        #compute the correlation between the means\n",
    "        corrval = statfunc(np.array(stats1), \n",
    "                           np.array(stats2))\n",
    "        #add to the list\n",
    "        corrvals.append(corrval)\n",
    "        \n",
    "    return spearman_brown(np.array(corrvals), 2)"
   ]
  },
  {
   "cell_type": "code",
   "execution_count": 60,
   "metadata": {
    "collapsed": true
   },
   "outputs": [],
   "source": [
    "#prep the by-trial data\n",
    "IT_Data_by_trial = {}\n",
    "V4_Data_by_trial = {}\n",
    "for vl in ['V0', 'V3', 'V6']:\n",
    "    level_number = vl[-1]\n",
    "    arr = Ventral_Dataset['time_averaged']['variation_level_%s' % level_number][:, :, IT_NEURONS]\n",
    "    IT_Data_by_trial[vl] = arr.swapaxes(0, 1)\n",
    "    arr = Ventral_Dataset['time_averaged']['variation_level_%s' % level_number][:, :, V4_NEURONS]\n",
    "    V4_Data_by_trial[vl] = arr.swapaxes(0, 1)"
   ]
  },
  {
   "cell_type": "code",
   "execution_count": 63,
   "metadata": {
    "collapsed": false
   },
   "outputs": [],
   "source": [
    "split_half_IT  = np.array([split_half_correlation([IT_Data_by_trial[vl][:, :, i].T for vl in ['V3', 'V6']],\n",
    "                           num_splits=50,\n",
    "                           aggfunc=idfunc,\n",
    "                           statfunc=pearsonr).mean() for i in range(len(IT_NEURONS))])\n",
    "\n",
    "split_half_V4  = np.array([split_half_correlation([V4_Data_by_trial[vl][:, :, i].T for vl in ['V3', 'V6']],\n",
    "                           num_splits=50,\n",
    "                           aggfunc=idfunc,\n",
    "                           statfunc=pearsonr).mean() for i in range(len(V4_NEURONS))])"
   ]
  },
  {
   "cell_type": "code",
   "execution_count": 64,
   "metadata": {
    "collapsed": false
   },
   "outputs": [
    {
     "data": {
      "text/plain": [
       "(array([ 5.,  2.,  9.,  6., 10.,  6., 11., 18., 48., 53.]),\n",
       " array([0.04976566, 0.14236026, 0.23495486, 0.32754946, 0.42014405,\n",
       "        0.51273865, 0.60533327, 0.69792783, 0.79052246, 0.883117  ,\n",
       "        0.97571164], dtype=float32),\n",
       " <a list of 10 Patch objects>)"
      ]
     },
     "execution_count": 64,
     "metadata": {},
     "output_type": "execute_result"
    },
    {
     "data": {
      "image/png": "[encoded data removed]",
      "text/plain": [
       "<matplotlib.figure.Figure at 0x7fa6134c8cd0>"
      ]
     },
     "metadata": {},
     "output_type": "display_data"
    }
   ],
   "source": [
    "plt.hist(split_half_IT)"
   ]
  },
  {
   "cell_type": "code",
   "execution_count": 65,
   "metadata": {
    "collapsed": true
   },
   "outputs": [],
   "source": [
    "V4_IT_vec = np.array([r['test']['mean_pearson'] for r in res_V4_IT])\n",
    "IT_V4_vec = np.array([r['test']['mean_pearson'] for r in res_IT_V4])"
   ]
  },
  {
   "cell_type": "code",
   "execution_count": 66,
   "metadata": {
    "collapsed": false
   },
   "outputs": [
    {
     "name": "stdout",
     "output_type": "stream",
     "text": [
      "V4-to-IT Uncorrected: 0.548; corrected: 0.713\n"
     ]
    }
   ],
   "source": [
    "uncorrected = np.median(V4_IT_vec)\n",
    "corrected = np.median(V4_IT_vec / split_half_IT)\n",
    "print('V4-to-IT Uncorrected: %.3f; corrected: %.3f' % (uncorrected, corrected))"
   ]
  },
  {
   "cell_type": "code",
   "execution_count": 67,
   "metadata": {
    "collapsed": false
   },
   "outputs": [
    {
     "name": "stdout",
     "output_type": "stream",
     "text": [
      "IT-to-V4 Uncorrected: 0.556; corrected: 0.700\n"
     ]
    }
   ],
   "source": [
    "uncorrected = np.median(IT_V4_vec)\n",
    "corrected = np.median(IT_V4_vec / split_half_V4)\n",
    "print('IT-to-V4 Uncorrected: %.3f; corrected: %.3f' % (uncorrected, corrected))"
   ]
  },
  {
   "cell_type": "markdown",
   "metadata": {},
   "source": [
    "### PLS Regression"
   ]
  },
  {
   "cell_type": "code",
   "execution_count": 68,
   "metadata": {
    "collapsed": true
   },
   "outputs": [],
   "source": [
    "from sklearn.cross_decomposition import PLSRegression"
   ]
  },
  {
   "cell_type": "code",
   "execution_count": 69,
   "metadata": {
    "collapsed": false
   },
   "outputs": [
    {
     "data": {
      "text/plain": [
       "0.5397649357541774"
      ]
     },
     "execution_count": 69,
     "metadata": {},
     "output_type": "execute_result"
    }
   ],
   "source": [
    "#With PLS Regression we can do all the predictions at once\n",
    "#instead of having to create a separate regressor for each IT neuron\n",
    "res_V4_IT_pls = train_and_test_scikit_regressor(features=V4_Neural_Data, \n",
    "                                labels=IT_Neural_Data,\n",
    "                                splits=reg_splits,\n",
    "                                model_class=PLSRegression,\n",
    "                                model_args={'n_components': 25},\n",
    "                                feature_norm=False)\n",
    "\n",
    "res_V4_IT_pls['test']['mean_pearson']"
   ]
  },
  {
   "cell_type": "code",
   "execution_count": 70,
   "metadata": {
    "collapsed": false
   },
   "outputs": [
    {
     "data": {
      "text/plain": [
       "<matplotlib.text.Text at 0x7fa639e78150>"
      ]
     },
     "execution_count": 70,
     "metadata": {},
     "output_type": "execute_result"
    },
    {
     "data": {
      "image/png": "[encoded data removed]",
      "text/plain": [
       "<matplotlib.figure.Figure at 0x7fa639eaca90>"
      ]
     },
     "metadata": {},
     "output_type": "display_data"
    }
   ],
   "source": [
    "#so that's why this array of results is defined:\n",
    "res_V4_IT_pls['test']['mean_pearson_array'].shape\n",
    "plt.hist(res_V4_IT_pls['test']['mean_pearson_array'], bins=20)\n",
    "plt.xlabel('regression V4-to-IT coefficien')\n",
    "plt.ylabel('Neuron Count')\n",
    "plt.title('Using PLS regression')"
   ]
  },
  {
   "cell_type": "code",
   "execution_count": 71,
   "metadata": {
    "collapsed": true
   },
   "outputs": [],
   "source": [
    "#let's actually analyze one trained model\n",
    "one_split = cv.get_splits(metadata=meta_array, \n",
    "                           split_by_func=lambda x: x['object_name'],  #we're balancing splits by object\n",
    "                           num_splits=1,  \n",
    "                           num_per_class_test=5,  \n",
    "                           num_per_class_train=75,\n",
    "                           train_filter=lambda x: x['variation_level'] in ['V3', 'V6'],\n",
    "                           test_filter=lambda x: x['variation_level'] in ['V3', 'V6']\n",
    "                           )\n",
    "\n",
    "res_V4_IT_pls_model = train_and_test_scikit_regressor(features=V4_Neural_Data, \n",
    "                                labels=IT_Neural_Data,\n",
    "                                splits=one_split,\n",
    "                                model_class=PLSRegression,\n",
    "                                model_args={'n_components': 25, 'scale': False},\n",
    "                                feature_norm=False,\n",
    "                                return_models=True)\n",
    "\n",
    "pls_model = res_V4_IT_pls_model['models'][0]"
   ]
  },
  {
   "cell_type": "code",
   "execution_count": 72,
   "metadata": {
    "collapsed": false
   },
   "outputs": [
    {
     "data": {
      "text/plain": [
       "(128, 168)"
      ]
     },
     "execution_count": 72,
     "metadata": {},
     "output_type": "execute_result"
    }
   ],
   "source": [
    "#Ok, so lets get the weights of the trained model\n",
    "W = pls_model.coef_\n",
    "W.shape\n",
    "#see, this is the transform from V4 space (128 dim) to IT space (168) dimension"
   ]
  },
  {
   "cell_type": "code",
   "execution_count": 73,
   "metadata": {
    "collapsed": false
   },
   "outputs": [
    {
     "data": {
      "text/plain": [
       "(5760, 168)"
      ]
     },
     "execution_count": 73,
     "metadata": {},
     "output_type": "execute_result"
    }
   ],
   "source": [
    "#now let's compute the projection\n",
    "IT_Neural_Data_guess = np.dot(V4_Neural_Data, W)\n",
    "#has the right shape \n",
    "IT_Neural_Data_guess.shape"
   ]
  },
  {
   "cell_type": "code",
   "execution_count": 74,
   "metadata": {
    "collapsed": false
   },
   "outputs": [
    {
     "data": {
      "text/plain": [
       "array([-0.04941157, -0.07605215,  0.06652948, ..., -0.08312364,\n",
       "       -0.06397824,  0.10168661])"
      ]
     },
     "execution_count": 74,
     "metadata": {},
     "output_type": "execute_result"
    }
   ],
   "source": [
    "IT_Neural_Data_guess[:, 0]"
   ]
  },
  {
   "cell_type": "code",
   "execution_count": 75,
   "metadata": {
    "collapsed": false
   },
   "outputs": [
    {
     "data": {
      "text/plain": [
       "array([-0.04933132, -0.0759719 ,  0.06660973, ..., -0.08304339,\n",
       "       -0.06389799,  0.10176686])"
      ]
     },
     "execution_count": 75,
     "metadata": {},
     "output_type": "execute_result"
    }
   ],
   "source": [
    "IT_Neural_Data_guess1 = pls_model.predict(V4_Neural_Data)\n",
    "IT_Neural_Data_guess1[:, 0]\n",
    "#so exactly, the prediction is done by the above mechanism"
   ]
  },
  {
   "cell_type": "code",
   "execution_count": null,
   "metadata": {
    "collapsed": true
   },
   "outputs": [],
   "source": []
  },
  {
   "cell_type": "code",
   "execution_count": null,
   "metadata": {
    "collapsed": true
   },
   "outputs": [],
   "source": []
  },
  {
   "cell_type": "code",
   "execution_count": null,
   "metadata": {
    "collapsed": true
   },
   "outputs": [],
   "source": []
  }
 ],
 "metadata": {
  "kernelspec": {
   "display_name": "Python 2",
   "language": "python",
   "name": "python2"
  },
  "language_info": {
   "codemirror_mode": {
    "name": "ipython",
    "version": 2
   },
   "file_extension": ".py",
   "mimetype": "text/x-python",
   "name": "python",
   "nbconvert_exporter": "python",
   "pygments_lexer": "ipython2",
   "version": "2.7.15+"
  }
 },
 "nbformat": 4,
 "nbformat_minor": 2
}
