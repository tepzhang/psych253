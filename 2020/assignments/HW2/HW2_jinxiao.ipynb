{
 "cells": [
  {
   "cell_type": "markdown",
   "metadata": {},
   "source": [
    "# PSYCH253 Homework 2\n",
    "### Jinxiao Zhang"
   ]
  },
  {
   "cell_type": "markdown",
   "metadata": {},
   "source": [
    "## 1.1 Regression in neural data\n",
    "### 1.1.1 Problem 1: Size regression from neural responses"
   ]
  },
  {
   "cell_type": "code",
   "execution_count": 1,
   "metadata": {},
   "outputs": [],
   "source": [
    "#import the plotting library matplotlib\n",
    "%matplotlib inline\n",
    "import matplotlib\n",
    "import matplotlib.pyplot as plt\n",
    "\n",
    "#other useful imports \n",
    "import numpy as np\n",
    "import scipy as sp\n",
    "import scipy.stats as stats\n",
    "import h5py"
   ]
  },
  {
   "cell_type": "code",
   "execution_count": 2,
   "metadata": {},
   "outputs": [],
   "source": [
    "from sklearn.linear_model import LinearRegression, Ridge, RidgeCV, LassoCV\n",
    "# from sklearn.metrics import r2_score\n",
    "from sklearn.cross_decomposition import PLSRegression\n",
    "\n",
    "import pandas as pd\n",
    "from plotnine import *"
   ]
  },
  {
   "cell_type": "code",
   "execution_count": 3,
   "metadata": {},
   "outputs": [],
   "source": [
    "#loading the dataset \n",
    "# DATA_PATH = \"ventral_neural_data.hdf5\"\n",
    "DATA_PATH = \"C:/Users/tepzh/Desktop/psych253 downloads/ventral_neural_data.hdf5\" ##YOUR PATH HERE\n",
    "Ventral_Dataset = h5py.File(DATA_PATH, 'r')"
   ]
  },
  {
   "cell_type": "code",
   "execution_count": 4,
   "metadata": {},
   "outputs": [
    {
     "name": "stdout",
     "output_type": "stream",
     "text": [
      "['image_meta', 'images', 'neural_meta', 'time_averaged', 'time_averaged_trial_averaged', 'time_binned', 'time_binned_trial_averaged']\n",
      "image size shape: (5760,)\n",
      "[0.81    0.81    0.81    ... 1.64492 1.22602 1.0325 ]\n"
     ]
    }
   ],
   "source": [
    "#First, what is in the dataset\n",
    "print(list(Ventral_Dataset.keys()))\n",
    "\n",
    "image_size = Ventral_Dataset['image_meta']['size'][:]\n",
    "print(\"image size shape:\", image_size.shape)\n",
    "print(image_size)"
   ]
  },
  {
   "cell_type": "code",
   "execution_count": 5,
   "metadata": {},
   "outputs": [
    {
     "name": "stdout",
     "output_type": "stream",
     "text": [
      "neural data shape: (5760, 296)\n",
      "Number of IT neurons:  (168,)\n",
      "Number of V4 neurons:  (88,)\n"
     ]
    }
   ],
   "source": [
    "# get neural data\n",
    "Neural_Data = Ventral_Dataset['time_averaged_trial_averaged'][:]\n",
    "print(\"neural data shape:\", Neural_Data.shape)\n",
    "\n",
    "IT_NEURONS = Ventral_Dataset['neural_meta']['IT_NEURONS']\n",
    "print(\"Number of IT neurons: \", IT_NEURONS.shape)\n",
    "IT_Neural_Data = Neural_Data[:, IT_NEURONS]\n",
    "\n",
    "V4_NEURONS = Ventral_Dataset['neural_meta']['V4_NEURONS']\n",
    "V4_NEURONS = V4_NEURONS[:-40] # remove last 40 neurons\n",
    "print(\"Number of V4 neurons: \", V4_NEURONS.shape)\n",
    "V4_Neural_Data = Neural_Data[:, V4_NEURONS]"
   ]
  },
  {
   "cell_type": "code",
   "execution_count": 6,
   "metadata": {},
   "outputs": [],
   "source": [
    "def get_splits(observation_inds,\n",
    "               num_splits,\n",
    "               num_test,\n",
    "               num_train,\n",
    "               seed=0):\n",
    "    \"\"\"\n",
    "    construct a consistent set of splits for cross validation\n",
    "    \n",
    "    arguments: \n",
    "        observation_inds: numpy.array of indices of observations \n",
    "        num_splits: number of splits\n",
    "        num_test: number of testing examples \n",
    "        num_train: number of train examples\n",
    "        seed: seed for random number generator\n",
    "    \"\"\"\n",
    "\n",
    "    test_inds = observation_inds\n",
    "    train_inds = observation_inds\n",
    "    \n",
    "    #seed the random number generator\n",
    "    rng = np.random.RandomState(seed=seed)\n",
    "    \n",
    "    #construct the splits one by one\n",
    "    splits = []\n",
    "    for _split_ind in range(num_splits):\n",
    "        \n",
    "        #first construct the testing data\n",
    "        #count how many there are\n",
    "        num_possible_test_inds = len(test_inds)\n",
    "        #make sure there are enough\n",
    "        assert num_possible_test_inds >= num_test, 'You requested %s but there are only %d available' % (num_test, num_possible_test_inds)\n",
    "        perm = rng.permutation(num_possible_test_inds)\n",
    "        actual_test_inds = test_inds[perm[ :num_test]]\n",
    "        actual_test_inds = np.sort(actual_test_inds)\n",
    "        \n",
    "        #remove train_inds from available inds\n",
    "        remaining_available_train_inds = np.unique(list(set(train_inds).difference(actual_test_inds)))\n",
    "#         print(\"number of remaining inds:\", len(remaining_available_train_inds))\n",
    "#         print(remaining_available_train_inds)\n",
    "        \n",
    "        #contruct the train data\n",
    "        #count how many there are\n",
    "        num_possible_train_inds = len(remaining_available_train_inds)\n",
    "        #make sure there are enough\n",
    "        assert num_possible_train_inds >= num_train, 'You requested %s but there are only %d available' % (num_train, num_possible_train_inds)\n",
    "        perm = rng.permutation(num_possible_train_inds)\n",
    "        actual_train_inds = remaining_available_train_inds[perm[ :num_train]]\n",
    "        actual_train_inds = np.sort(actual_train_inds)\n",
    "                \n",
    "        split = {'train': actual_train_inds, 'test': actual_test_inds}\n",
    "        splits.append(split)\n",
    "        \n",
    "    return splits"
   ]
  },
  {
   "cell_type": "code",
   "execution_count": 7,
   "metadata": {},
   "outputs": [
    {
     "name": "stdout",
     "output_type": "stream",
     "text": [
      "dict_keys(['train', 'test'])\n"
     ]
    }
   ],
   "source": [
    "# get splits of the data\n",
    "splits = get_splits(observation_inds=np.arange(len(image_size)),\n",
    "               num_splits=10,\n",
    "               num_test=1000,\n",
    "               num_train=4000,\n",
    "               seed=0)\n",
    "\n",
    "len(splits)\n",
    "print(splits[0].keys())"
   ]
  },
  {
   "cell_type": "markdown",
   "metadata": {},
   "source": [
    "#### OLS regression"
   ]
  },
  {
   "cell_type": "code",
   "execution_count": 8,
   "metadata": {},
   "outputs": [],
   "source": [
    "def train_and_test_OLS(X, y, splits):\n",
    "    \"\"\"Routine for contructing, training and testing OLS\n",
    "       \n",
    "       Arguments: \n",
    "           X: (K, M) feature array where K = number of stimuli and M = number of features\n",
    "           y: length-K vector of values to be predicted\n",
    "           splits: splits of data (constructed by calling the get_splits function)\n",
    "           \n",
    "       Returns:\n",
    "           dictionary summary of training and testing results\n",
    "    \n",
    "    \"\"\"\n",
    "    train_r2 = []\n",
    "    test_r2 = []\n",
    "    for split in splits:\n",
    "        lr = LinearRegression()\n",
    "        \n",
    "        train_inds = split['train']\n",
    "        test_inds = split['test']\n",
    "        \n",
    "        lr = lr.fit(X[train_inds, :], y[train_inds])\n",
    "        r2_lr_train = lr.score(X[train_inds, :], y[train_inds])\n",
    "        r2_lr_test = lr.score(X[test_inds, :], y[test_inds])\n",
    "        \n",
    "        train_r2.append(r2_lr_train)\n",
    "        test_r2.append(r2_lr_test)\n",
    "        \n",
    "    train_r2 = np.array(train_r2)\n",
    "    test_r2 = np.array(test_r2)\n",
    "    results = {'train': train_r2, 'test': test_r2}\n",
    "    return results"
   ]
  },
  {
   "cell_type": "code",
   "execution_count": 9,
   "metadata": {},
   "outputs": [],
   "source": [
    "# OLS of V4\n",
    "results_V4 = train_and_test_OLS(X = V4_Neural_Data, y = image_size, splits = splits)\n",
    "# print(\"\\n V4 results:\")\n",
    "# print(\"train:\", results_V4['train'])\n",
    "# print(\"test:\", results_V4['test'])\n",
    "\n",
    "# OLS of IT (sub-sampled)\n",
    "IT_NEURONS_subsample = np.random.choice(len(IT_NEURONS), len(V4_NEURONS), replace=False)\n",
    "IT_Neural_Data_subsample = IT_Neural_Data[:, IT_NEURONS_subsample]\n",
    "results_IT_subsample = train_and_test_OLS(X = IT_Neural_Data_subsample, y = image_size, splits = splits)\n",
    "# print(\"\\n IT (subsampled) results:\")\n",
    "# print(\"train:\", results_IT_subsample['train'])\n",
    "# print(\"test:\", results_IT_subsample['test'])\n",
    "\n",
    "# OLS of IT (all neurons)\n",
    "results_IT = train_and_test_OLS(X = IT_Neural_Data, y = image_size, splits = splits)\n",
    "# print(\"\\n IT (all) results:\")\n",
    "# print(\"train:\", results_IT['train'])\n",
    "# print(\"test:\", results_IT['test'])"
   ]
  },
  {
   "cell_type": "code",
   "execution_count": 10,
   "metadata": {},
   "outputs": [
    {
     "data": {
      "image/png": "[encoded data removed]",
      "text/plain": [
       "<Figure size 640x480 with 1 Axes>"
      ]
     },
     "metadata": {},
     "output_type": "display_data"
    },
    {
     "data": {
      "text/plain": [
       "<ggplot: (161284308733)>"
      ]
     },
     "execution_count": 10,
     "metadata": {},
     "output_type": "execute_result"
    }
   ],
   "source": [
    "# plot performance\n",
    "df_V4 = pd.DataFrame(results_V4)\n",
    "df_V4['region'] = 'V4'\n",
    "df_IT_subsample = pd.DataFrame(results_IT_subsample)\n",
    "df_IT_subsample['region'] = 'IT_subsample'\n",
    "df_IT = pd.DataFrame(results_IT)\n",
    "df_IT['region'] = 'IT_all'\n",
    "\n",
    "df_performance = pd.concat([df_V4,df_IT_subsample, df_IT])\n",
    "df_performance = df_performance.melt(id_vars=['region'], value_vars=['train', 'test'], \n",
    "                                     value_name='r2', var_name = 'set')\n",
    "df_performance['region'] = pd.Categorical(df_performance['region'], ordered=True, categories=['V4', 'IT_subsample', 'IT_all'])\n",
    "# df_performance['set'] = pd.Categorical(df_performance['set'], ordered=True, categories=['train', 'test'])\n",
    "# print(df_performance)\n",
    "\n",
    "# ggplot\n",
    "ggplot(df_performance, aes('region', 'r2', fill = 'set')) +\\\n",
    "stat_summary(fun_y = np.mean,\n",
    "                geom = 'bar',\n",
    "                color = 'black',\n",
    "                position = position_dodge(width = .9)) +\\\n",
    "stat_summary(fun_data = 'mean_sdl', # error_bar: standard deviation\n",
    "                geom = 'linerange',\n",
    "                position = position_dodge(width = .9)) +\\\n",
    "labs(title = 'OLS: R-squared')\n"
   ]
  },
  {
   "cell_type": "markdown",
   "metadata": {},
   "source": [
    "#### Ridge regression "
   ]
  },
  {
   "cell_type": "code",
   "execution_count": 11,
   "metadata": {},
   "outputs": [],
   "source": [
    "def train_and_test_Ridge(X, y, splits, alpha_options):\n",
    "    \"\"\"Routine for contructing, training and testing Ridge regression\n",
    "       \n",
    "       Arguments: \n",
    "           X: (K, M) feature array where K = number of stimuli and M = number of features\n",
    "           y: length-K vector of values to be predicted\n",
    "           splits: splits of data (constructed by calling the get_splits function)\n",
    "           \n",
    "       Returns:\n",
    "           dictionary summary of training and testing results\n",
    "    \n",
    "    \"\"\"\n",
    "    results = []\n",
    "    for alpha in alpha_options:    \n",
    "        train_r2 = []\n",
    "        test_r2 = []\n",
    "        for split in splits:\n",
    "            lr = Ridge(alpha=alpha)\n",
    "\n",
    "            train_inds = split['train']\n",
    "            test_inds = split['test']\n",
    "\n",
    "            lr = lr.fit(X[train_inds, :], y[train_inds])\n",
    "            r2_lr_test = lr.score(X[test_inds, :], y[test_inds])\n",
    "\n",
    "            test_r2.append(r2_lr_test)\n",
    "\n",
    "        # get mean performance in test-set\n",
    "        test_r2 = np.array(test_r2).mean()\n",
    "        results.append(test_r2)\n",
    "    \n",
    "    # find the best alpha\n",
    "    best_alpha_idx = np.argmax(results)\n",
    "    best_alpha = alpha_options[best_alpha_idx]\n",
    "#     print(\"results: \", results)\n",
    "#     print(best_alpha_idx)\n",
    "#     print(alpha_options[best_alpha_idx])\n",
    "        \n",
    "    \n",
    "    # apply the best alpha\n",
    "    train_r2 = []\n",
    "    test_r2 = []\n",
    "    for split in splits:\n",
    "        lr = Ridge(alpha=best_alpha)\n",
    "        \n",
    "        train_inds = split['train']\n",
    "        test_inds = split['test']\n",
    "        \n",
    "        lr = lr.fit(X[train_inds, :], y[train_inds])\n",
    "        r2_lr_train = lr.score(X[train_inds, :], y[train_inds])\n",
    "        r2_lr_test = lr.score(X[test_inds, :], y[test_inds])\n",
    "        \n",
    "        train_r2.append(r2_lr_train)\n",
    "        test_r2.append(r2_lr_test)\n",
    "        \n",
    "    train_r2 = np.array(train_r2)\n",
    "    test_r2 = np.array(test_r2)\n",
    "    results = {'train': train_r2, 'test': test_r2}\n",
    "    \n",
    "    return results, best_alpha"
   ]
  },
  {
   "cell_type": "code",
   "execution_count": 12,
   "metadata": {},
   "outputs": [],
   "source": [
    "# get Ridge performance\n",
    "alphas = [1e-7, 1e-5, 1e-3, 1e-2, 1e-1, 1, 10, 100]\n",
    "\n",
    "results_V4_ridge, best_alpha_V4 = train_and_test_Ridge(X = V4_Neural_Data, y = image_size, splits = splits, alpha_options = alphas)\n",
    "results_IT_subsample_ridge, best_alpha_IT_subsample = train_and_test_Ridge(X = IT_Neural_Data_subsample, \n",
    "                                                                           y = image_size, splits = splits, alpha_options = alphas)\n",
    "results_IT_ridge, best_alpha_IT = train_and_test_Ridge(X = IT_Neural_Data, y = image_size, splits = splits, alpha_options = alphas)\n",
    "\n",
    "# print(best_alpha_V4)\n",
    "# print(best_alpha_IT_subsample)\n",
    "# print(best_alpha_IT)"
   ]
  },
  {
   "cell_type": "code",
   "execution_count": 13,
   "metadata": {},
   "outputs": [
    {
     "data": {
      "image/png": "[encoded data removed]",
      "text/plain": [
       "<Figure size 640x480 with 1 Axes>"
      ]
     },
     "metadata": {},
     "output_type": "display_data"
    },
    {
     "data": {
      "text/plain": [
       "<ggplot: (-9223371875570468380)>"
      ]
     },
     "execution_count": 13,
     "metadata": {},
     "output_type": "execute_result"
    }
   ],
   "source": [
    "# plot Ridge performance\n",
    "df_V4_ridge = pd.DataFrame(results_V4_ridge)\n",
    "df_V4_ridge['region'] = 'V4'\n",
    "df_IT_subsample_ridge = pd.DataFrame(results_IT_subsample_ridge)\n",
    "df_IT_subsample_ridge['region'] = 'IT_subsample'\n",
    "df_IT_ridge = pd.DataFrame(results_IT_ridge)\n",
    "df_IT_ridge['region'] = 'IT_all'\n",
    "\n",
    "df_performance_ridge = pd.concat([df_V4_ridge, df_IT_subsample_ridge, df_IT_ridge])\n",
    "df_performance_ridge = df_performance_ridge.melt(id_vars=['region'], value_vars=['train', 'test'], \n",
    "                                     value_name='r2', var_name = 'set')\n",
    "df_performance_ridge['set'] = df_performance_ridge['set'].replace({'train': 'train_Ridge', 'test':'test_Ridge'})\n",
    "# print(df_performance_ridge)\n",
    "\n",
    "# combined OLS and Ridge results\n",
    "df_performance_combined = df_performance.append(df_performance_ridge)\n",
    "df_performance_combined['region'] = pd.Categorical(df_performance_combined['region'], ordered=True, \n",
    "                                                   categories=['V4', 'IT_subsample', 'IT_all'])\n",
    "# print(df_performance_combined)\n",
    "\n",
    "\n",
    "# ggplot\n",
    "ggplot(df_performance_combined, aes('region', 'r2', fill = 'set')) +\\\n",
    "stat_summary(fun_y = np.mean,\n",
    "                geom = 'bar',\n",
    "                color = 'black',\n",
    "                position = position_dodge(width = .9)) +\\\n",
    "stat_summary(fun_data = 'mean_sdl', # error_bar: standard deviation\n",
    "                geom = 'linerange',\n",
    "                position = position_dodge(width = .9)) +\\\n",
    "labs(title = 'OLS and Ridge regression: R-squared')"
   ]
  },
  {
   "cell_type": "markdown",
   "metadata": {},
   "source": [
    "__Conclusion:__ According to the performance in the test set, IT neurons predicts bettern than V4 neurons,and Ridge regression, with L2 regularization, generally performs slightly better than OLS."
   ]
  },
  {
   "cell_type": "code",
   "execution_count": 14,
   "metadata": {},
   "outputs": [
    {
     "name": "stdout",
     "output_type": "stream",
     "text": [
      "\n",
      "Best alpha for V4 (in house): 100\n",
      "Best alpha for V4 (from RidgeCV):  [100.]\n",
      "\n",
      "Best alpha for IT (in house): 100\n",
      "Best alpha for IT (from RidgeCV):  [100.]\n"
     ]
    }
   ],
   "source": [
    "# RidgeCV\n",
    "\n",
    "# V4\n",
    "print('\\nBest alpha for V4 (in house):', best_alpha_V4)\n",
    "best_alpha_V4_RidgeCV = []\n",
    "for split in splits:\n",
    "    lr = RidgeCV(alphas=alphas)\n",
    "    train_inds = split['train']\n",
    "    test_inds = split['test']\n",
    "    lr = lr.fit(V4_Neural_Data[train_inds, :], image_size[train_inds])\n",
    "    best_alpha_V4_RidgeCV.append(lr.alpha_)\n",
    "# get the most common alpha from the results of different splits\n",
    "print('Best alpha for V4 (from RidgeCV): ', stats.mode(best_alpha_V4_RidgeCV, axis=None)[0])\n",
    "\n",
    "\n",
    "# IT\n",
    "print('\\nBest alpha for IT (in house):', best_alpha_IT)\n",
    "best_alpha_IT_RidgeCV = []\n",
    "for split in splits:\n",
    "    lr = RidgeCV(alphas=alphas)\n",
    "    train_inds = split['train']\n",
    "    test_inds = split['test']\n",
    "    lr = lr.fit(IT_Neural_Data[train_inds, :], image_size[train_inds])\n",
    "    best_alpha_IT_RidgeCV.append(lr.alpha_)\n",
    "# get the most common alpha from the results of different splits\n",
    "print('Best alpha for IT (from RidgeCV): ', stats.mode(best_alpha_IT_RidgeCV, axis=None)[0])"
   ]
  },
  {
   "cell_type": "markdown",
   "metadata": {},
   "source": [
    "__Conclusion:__ The best alpha for Ridge regression is 100."
   ]
  },
  {
   "cell_type": "markdown",
   "metadata": {},
   "source": [
    "### 1.1.2 Problem 2: Predicting neural responses from neural responses"
   ]
  },
  {
   "cell_type": "code",
   "execution_count": 15,
   "metadata": {},
   "outputs": [
    {
     "name": "stdout",
     "output_type": "stream",
     "text": [
      "(5760, 128)\n",
      "(5760,)\n"
     ]
    }
   ],
   "source": [
    "# prepare Chabo and Tito data\n",
    "animal_info = np.array(Ventral_Dataset['neural_meta']['ANIMAL_INFO'])\n",
    "Chabo_neurons = np.where(animal_info == b'Chabo')[0]\n",
    "Tito_neurons = np.where(animal_info == b'Tito')[0]\n",
    "# print(Chabo_neurons)\n",
    "# print(Tito_neurons)\n",
    "\n",
    "# get valid neurons\n",
    "valid_neurons = np.sort(np.append(IT_NEURONS[:], V4_NEURONS))\n",
    "# print(valid_neurons.shape)\n",
    "\n",
    "# retain only valid neurons\n",
    "mask_Chabo = np.isin(Chabo_neurons, valid_neurons)\n",
    "Chabo_neurons_valid = Chabo_neurons[mask_Chabo]\n",
    "mask_Tito = np.isin(Tito_neurons, valid_neurons)\n",
    "Tito_neurons_valid = Tito_neurons[mask_Tito]\n",
    "# print(Chabo_neurons_valid)\n",
    "# print(Tito_neurons_valid)\n",
    "\n",
    "# neural data\n",
    "Chabo_Neural_Data = Neural_Data[:, Chabo_neurons_valid]\n",
    "Tito_Neural_Data = Neural_Data[:, Tito_neurons_valid]\n",
    "Tito_Neural_Data_average = Tito_Neural_Data.mean(axis = 1)\n",
    "print(Chabo_Neural_Data.shape)\n",
    "print(Tito_Neural_Data_average.shape)\n"
   ]
  },
  {
   "cell_type": "code",
   "execution_count": 16,
   "metadata": {},
   "outputs": [],
   "source": [
    "def train_and_test_regularized_regressionCV(X, y, splits, alpha_options, regularization_type = 'Ridge'):\n",
    "    \"\"\"Routine for contructing, training and testing Ridge regression\n",
    "       \n",
    "       Arguments: \n",
    "           X: (K, M) feature array where K = number of stimuli and M = number of features\n",
    "           y: length-K vector of values to be predicted\n",
    "           splits: splits of data (constructed by calling the get_splits function)\n",
    "           \n",
    "       Returns:\n",
    "           dictionary summary of testing results and best alpha\n",
    "    \n",
    "    \"\"\"\n",
    "    train_r2 = []\n",
    "    test_r2 = []\n",
    "    best_alpha = []\n",
    "    for split in splits:\n",
    "        if regularization_type == 'Ridge':\n",
    "            lr = RidgeCV(alphas=alpha_options)\n",
    "        if regularization_type == 'Lasso':\n",
    "            lr = LassoCV(alphas=alpha_options, max_iter=1000)\n",
    "        \n",
    "        train_inds = split['train']\n",
    "        test_inds = split['test']\n",
    "        \n",
    "        lr = lr.fit(X[train_inds, :], y[train_inds])\n",
    "        r2_lr_train = lr.score(X[train_inds, :], y[train_inds])\n",
    "        r2_lr_test = lr.score(X[test_inds, :], y[test_inds])\n",
    "        \n",
    "        train_r2.append(r2_lr_train)\n",
    "        test_r2.append(r2_lr_test)\n",
    "        best_alpha.append(lr.alpha_)\n",
    "#         print('best alpha:', lr.alpha_)\n",
    "\n",
    "    train_r2 = np.array(train_r2)    \n",
    "    test_r2 = np.array(test_r2)\n",
    "    results = {'train':train_r2, 'test': test_r2, 'best alpha': best_alpha}\n",
    "    \n",
    "    return results\n",
    "\n",
    "    "
   ]
  },
  {
   "cell_type": "code",
   "execution_count": 17,
   "metadata": {},
   "outputs": [
    {
     "name": "stdout",
     "output_type": "stream",
     "text": [
      "Ridge best alpha:  [100.0, 100.0, 100.0, 100.0, 100.0, 100.0, 100.0, 100.0, 100.0, 100.0]\n",
      "Lasso best alpha:  [1e-05, 1e-05, 1e-05, 1e-05, 1e-05, 1e-05, 1e-05, 1e-05, 1e-05, 1e-05]\n"
     ]
    }
   ],
   "source": [
    "alphas = [1e-6, 1e-5, 1e-3, 1e-2, 1e-1, 1, 10, 100, 1e3, 1e5]\n",
    "\n",
    "results_RidgeCV = train_and_test_regularized_regressionCV(X = Chabo_Neural_Data, y = Tito_Neural_Data_average, splits = splits, \n",
    "                                                          alpha_options = alphas, regularization_type = 'Ridge')\n",
    "results_LassoCV = train_and_test_regularized_regressionCV(X = Chabo_Neural_Data, y = Tito_Neural_Data_average, splits = splits, \n",
    "                                                          alpha_options = alphas, regularization_type = 'Lasso')\n",
    "\n",
    "print('Ridge best alpha: ', results_RidgeCV['best alpha'])\n",
    "print('Lasso best alpha: ', results_LassoCV['best alpha'])"
   ]
  },
  {
   "cell_type": "code",
   "execution_count": 18,
   "metadata": {},
   "outputs": [],
   "source": [
    "def train_and_test_PLSRegression(X, y, splits, n_comp_options, average_splits = True):\n",
    "    \"\"\"Routine for contructing, training and testing PLS regression\n",
    "       \n",
    "       Arguments: \n",
    "           X: (K, M) feature array where K = number of stimuli and M = number of features\n",
    "           y: length-K vector of values to be predicted\n",
    "           splits: splits of data (constructed by calling the get_splits function)\n",
    "           \n",
    "       Returns:\n",
    "           dictionary summary of testing results and best n_components\n",
    "    \n",
    "    \"\"\"\n",
    "    results = {'test':[], 'train':[]}\n",
    "    for n_comp in n_comp_options:\n",
    "        print('n_comp = ', n_comp)\n",
    "        train_r2 = []\n",
    "        test_r2 = []\n",
    "        for split in splits:\n",
    "            lr = PLSRegression(n_components=n_comp)\n",
    "\n",
    "            train_inds = split['train']\n",
    "            test_inds = split['test']\n",
    "\n",
    "            lr = lr.fit(X[train_inds, :], y[train_inds])\n",
    "            r2_lr_train = lr.score(X[train_inds, :], y[train_inds])\n",
    "            r2_lr_test = lr.score(X[test_inds, :], y[test_inds])\n",
    "            \n",
    "            train_r2.append(r2_lr_train)\n",
    "            test_r2.append(r2_lr_test)\n",
    "\n",
    "        # get mean performance in test-set\n",
    "        if average_splits:\n",
    "            test_r2 = np.array(test_r2).mean() \n",
    "            train_r2 = np.array(train_r2).mean()\n",
    "            \n",
    "        test_r2 = np.array(test_r2)\n",
    "        train_r2 = np.array(train_r2)\n",
    "        results['test'].append(test_r2)\n",
    "        results['train'].append(train_r2)\n",
    "    \n",
    "    return results\n",
    "    \n",
    "    "
   ]
  },
  {
   "cell_type": "code",
   "execution_count": 19,
   "metadata": {},
   "outputs": [
    {
     "name": "stdout",
     "output_type": "stream",
     "text": [
      "n_comp =  1\n",
      "n_comp =  2\n",
      "n_comp =  3\n",
      "n_comp =  4\n",
      "n_comp =  5\n",
      "n_comp =  6\n",
      "n_comp =  7\n",
      "n_comp =  8\n",
      "n_comp =  9\n",
      "n_comp =  10\n",
      "n_comp =  12\n",
      "n_comp =  14\n",
      "n_comp =  16\n",
      "n_comp =  18\n",
      "n_comp =  20\n",
      "n_comp =  22\n",
      "n_comp =  24\n"
     ]
    },
    {
     "data": {
      "text/plain": [
       "Text(0, 0.5, 'r-squared')"
      ]
     },
     "execution_count": 19,
     "metadata": {},
     "output_type": "execute_result"
    },
    {
     "data": {
      "image/png": "[encoded data removed]",
      "text/plain": [
       "<Figure size 432x288 with 1 Axes>"
      ]
     },
     "metadata": {
      "needs_background": "light"
     },
     "output_type": "display_data"
    }
   ],
   "source": [
    "n_components = np.append(np.arange(start = 1, stop = 10, step = 1), np.arange(start = 10, stop = 25, step = 2))\n",
    "\n",
    "results_PLS_for_comparison = train_and_test_PLSRegression(X = Chabo_Neural_Data, y = Tito_Neural_Data_average, splits = splits, \n",
    "                             n_comp_options = n_components)\n",
    "\n",
    "# plot performance agains n_components\n",
    "plt.plot(n_components, results_PLS_for_comparison['test'])\n",
    "plt.xlabel('Num of components')\n",
    "plt.ylabel('r-squared')"
   ]
  },
  {
   "cell_type": "code",
   "execution_count": 20,
   "metadata": {},
   "outputs": [
    {
     "name": "stdout",
     "output_type": "stream",
     "text": [
      "n_comp =  15\n"
     ]
    }
   ],
   "source": [
    "# the performance stablizes n_components >= 15 approximates \n",
    "# choose n_components = 15\n",
    "\n",
    "best_n_components = [15]\n",
    "results_PLS = train_and_test_PLSRegression(X = Chabo_Neural_Data, y = Tito_Neural_Data_average, splits = splits, \n",
    "                             n_comp_options = best_n_components, average_splits = False)\n",
    "# print(results_PLS)"
   ]
  },
  {
   "cell_type": "code",
   "execution_count": 22,
   "metadata": {},
   "outputs": [
    {
     "data": {
      "image/png": "[encoded data removed]",
      "text/plain": [
       "<Figure size 640x480 with 1 Axes>"
      ]
     },
     "metadata": {},
     "output_type": "display_data"
    },
    {
     "data": {
      "text/plain": [
       "<ggplot: (-9223371875567955915)>"
      ]
     },
     "execution_count": 22,
     "metadata": {},
     "output_type": "execute_result"
    }
   ],
   "source": [
    "# plot\n",
    "df_RidgeCV = pd.DataFrame(results_RidgeCV)\n",
    "df_RidgeCV['method'] = 'Ridge'\n",
    "df_LassoCV = pd.DataFrame(results_LassoCV)\n",
    "df_LassoCV['method'] = 'Lasso'\n",
    "df_PLS = pd.DataFrame(results_LassoCV)\n",
    "df_PLS['method'] = 'PLS'\n",
    "\n",
    "df_combined = pd.concat([df_RidgeCV, df_LassoCV, df_PLS], sort=False)\n",
    "# df_combined['method'] = pd.Categorical(df_combined['method'], ordered=True, categories=['Ridge', 'Lasso', 'PLS'])\n",
    "# print(df_combined)\n",
    "\n",
    "# ggplot\n",
    "ggplot(df_combined, aes('method', 'test', fill = 'method')) +\\\n",
    "stat_summary(fun_y = np.mean,\n",
    "                geom = 'bar',\n",
    "                color = 'black') +\\\n",
    "stat_summary(fun_data = 'mean_sdl',# error_bar: standard deviation\n",
    "                geom = 'linerange') +\\\n",
    "ylim(0, 0.7) +\\\n",
    "labs(title = 'Regression performance: Ridge, Lasso, PLS')\n"
   ]
  },
  {
   "cell_type": "code",
   "execution_count": 25,
   "metadata": {},
   "outputs": [
    {
     "data": {
      "text/html": [
       "<div>\n",
       "<style scoped>\n",
       "    .dataframe tbody tr th:only-of-type {\n",
       "        vertical-align: middle;\n",
       "    }\n",
       "\n",
       "    .dataframe tbody tr th {\n",
       "        vertical-align: top;\n",
       "    }\n",
       "\n",
       "    .dataframe thead th {\n",
       "        text-align: right;\n",
       "    }\n",
       "</style>\n",
       "<table border=\"1\" class=\"dataframe\">\n",
       "  <thead>\n",
       "    <tr style=\"text-align: right;\">\n",
       "      <th></th>\n",
       "      <th>test</th>\n",
       "      <th>train</th>\n",
       "    </tr>\n",
       "    <tr>\n",
       "      <th>method</th>\n",
       "      <th></th>\n",
       "      <th></th>\n",
       "    </tr>\n",
       "  </thead>\n",
       "  <tbody>\n",
       "    <tr>\n",
       "      <td>Lasso</td>\n",
       "      <td>0.562315</td>\n",
       "      <td>0.587158</td>\n",
       "    </tr>\n",
       "    <tr>\n",
       "      <td>PLS</td>\n",
       "      <td>0.562315</td>\n",
       "      <td>0.587158</td>\n",
       "    </tr>\n",
       "    <tr>\n",
       "      <td>Ridge</td>\n",
       "      <td>0.562455</td>\n",
       "      <td>0.580111</td>\n",
       "    </tr>\n",
       "  </tbody>\n",
       "</table>\n",
       "</div>"
      ],
      "text/plain": [
       "            test     train\n",
       "method                    \n",
       "Lasso   0.562315  0.587158\n",
       "PLS     0.562315  0.587158\n",
       "Ridge   0.562455  0.580111"
      ]
     },
     "execution_count": 25,
     "metadata": {},
     "output_type": "execute_result"
    }
   ],
   "source": [
    "# mean performance\n",
    "df_combined[['method', 'test', 'train']].groupby('method').mean()"
   ]
  },
  {
   "cell_type": "markdown",
   "metadata": {},
   "source": [
    "__Conclusion:__ The 3 regressions (Ridge, Lasso, PLS) have almost same performance."
   ]
  },
  {
   "cell_type": "markdown",
   "metadata": {},
   "source": [
    "## 1.2 Regression in self-regulation ontology data\n",
    "### 1.1.2 Problem 3: Regression to self regulation measures"
   ]
  },
  {
   "cell_type": "code",
   "execution_count": 26,
   "metadata": {},
   "outputs": [
    {
     "name": "stdout",
     "output_type": "stream",
     "text": [
      "(522, 194)\n",
      "(151, 194)\n",
      "(522, 9)\n"
     ]
    }
   ],
   "source": [
    "df_task_survey = pd.read_csv('data/task_survey_measures.csv')\n",
    "df_task_survey_retest = pd.read_csv('data/retest_task_survey_measures.csv')\n",
    "df_self_regulation = pd.read_csv('data/self_regulation_measures.csv')\n",
    "\n",
    "print(df_task_survey.shape)\n",
    "print(df_task_survey_retest.shape)\n",
    "print(df_self_regulation.shape)"
   ]
  },
  {
   "cell_type": "code",
   "execution_count": 27,
   "metadata": {},
   "outputs": [
    {
     "name": "stdout",
     "output_type": "stream",
     "text": [
      "<class 'pandas.core.frame.DataFrame'>\n",
      "number of surveys: 69\n",
      "number of tasks: 124\n",
      "surver_arr shape: (522, 69)\n",
      "task_arr shape: (522, 69)\n"
     ]
    }
   ],
   "source": [
    "# prepare X\n",
    "print(type(df_task_survey))\n",
    "# df_task_survey\n",
    "\n",
    "survey_cols = []\n",
    "task_cols = []\n",
    "for col in df_task_survey.columns[1:]:\n",
    "    if 'survey' in col:\n",
    "        survey_cols.append(col)\n",
    "    else:\n",
    "        task_cols.append(col)\n",
    "\n",
    "print('number of surveys:', len(survey_cols))\n",
    "print('number of tasks:', len(task_cols))\n",
    "\n",
    "survey_arr = np.asarray(df_task_survey[survey_cols])\n",
    "task_arr = np.asarray(df_task_survey[task_cols])\n",
    "\n",
    "# make sure task and survey have the same number of featuress\n",
    "task_subsample = np.random.choice(len(task_cols), len(survey_cols), replace=False)\n",
    "task_arr = task_arr[:, task_subsample]\n",
    "\n",
    "print(\"surver_arr shape:\", survey_arr.shape)\n",
    "print(\"task_arr shape:\", task_arr.shape)"
   ]
  },
  {
   "cell_type": "code",
   "execution_count": 28,
   "metadata": {},
   "outputs": [
    {
     "data": {
      "text/plain": [
       "(522, 9)"
      ]
     },
     "execution_count": 28,
     "metadata": {},
     "output_type": "execute_result"
    }
   ],
   "source": [
    "# prepare y\n",
    "regulation_arr = np.asarray(df_self_regulation)\n",
    "regulation_arr.shape"
   ]
  },
  {
   "cell_type": "code",
   "execution_count": 30,
   "metadata": {},
   "outputs": [
    {
     "data": {
      "text/plain": [
       "20"
      ]
     },
     "execution_count": 30,
     "metadata": {},
     "output_type": "execute_result"
    }
   ],
   "source": [
    "# get splits of the data\n",
    "splits = get_splits(observation_inds=np.arange(regulation_arr.shape[0]),\n",
    "               num_splits=20,\n",
    "               num_test=100,\n",
    "               num_train=400,\n",
    "               seed=0)\n",
    "\n",
    "# print(splits[0])\n",
    "len(splits)"
   ]
  },
  {
   "cell_type": "code",
   "execution_count": 31,
   "metadata": {},
   "outputs": [
    {
     "name": "stdout",
     "output_type": "stream",
     "text": [
      "\n",
      " Self-regulation measure: Drug Use\n",
      "Survey log10(best alpha): [4. 3. 3. 3. 4. 3. 3. 3. 3. 4. 3. 3. 3. 3. 3. 3. 3. 3. 3. 3.]\n",
      "Task log10(best alpha): [ 9.  8.  8.  7.  8.  6.  6.  9. 10.  8.  8.  8.  9.  6.  6.  6.  8.  6.\n",
      "  8.  8.]\n",
      "\n",
      " Self-regulation measure: Mental Health\n",
      "Survey log10(best alpha): [2. 3. 2. 2. 2. 2. 2. 3. 2. 2. 2. 2. 2. 2. 2. 2. 2. 2. 2. 2.]\n",
      "Task log10(best alpha): [100.  70.  50.  50.  25.  80.  40.  25.  25.  25.  30.  90.  25.  25.\n",
      "  80.  25.  30.  25.  25.  30.]\n",
      "\n",
      " Self-regulation measure: Problem Drinking\n",
      "Survey log10(best alpha): [4. 4. 3. 3. 3. 3. 3. 3. 4. 3. 3. 3. 3. 3. 3. 4. 3. 3. 3. 3.]\n",
      "Task log10(best alpha): [40.  6. 25. 40. 30. 25. 30. 30. 25. 25. 25. 25. 25.  5. 30. 25. 50. 30.\n",
      " 25. 25.]\n",
      "\n",
      " Self-regulation measure: Daily Smoking\n",
      "Survey log10(best alpha): [3. 3. 2. 2. 2. 3. 2. 2. 2. 2. 2. 2. 2. 2. 2. 2. 2. 2. 2. 2.]\n",
      "Task log10(best alpha): [2. 2. 2. 2. 2. 2. 3. 2. 2. 2. 2. 3. 2. 2. 3. 2. 2. 3. 3. 2.]\n",
      "\n",
      " Self-regulation measure: Binge Drinking\n",
      "Survey log10(best alpha): [1. 1. 3. 1. 1. 3. 3. 3. 1. 1. 2. 2. 3. 1. 1. 1. 1. 3. 1. 2.]\n",
      "Task log10(best alpha): [50.  4. 30.  8.  4. 25. 25.  9. 60. 25. 25. 25. 10.  5. 30. 30.  9. 40.\n",
      " 30. 11.]\n",
      "\n",
      " Self-regulation measure: Lifetime Smoking\n",
      "Survey log10(best alpha): [3. 3. 3. 3. 2. 2. 3. 2. 3. 3. 2. 3. 2. 3. 2. 3. 3. 2. 3. 2.]\n",
      "Task log10(best alpha): [ 2.  3.  6.  2.  3. 25.  3.  2.  9.  2.  3.  9.  3.  9.  2.  9.  9.  8.\n",
      "  8.  2.]\n",
      "\n",
      " Self-regulation measure: Obesity\n",
      "Survey log10(best alpha): [3. 3. 3. 3. 3. 3. 3. 3. 3. 3. 3. 3. 3. 3. 3. 3. 3. 3. 3. 2.]\n",
      "Task log10(best alpha): [25.  3. 25.  6.  3.  3. 50. 25.  3.  3.  3. 40. 25.  3. 25.  3. 25. 25.\n",
      "  3.  3.]\n",
      "\n",
      " Self-regulation measure: Income / Life Milestones\n",
      "Survey log10(best alpha): [2. 1. 2. 2. 2. 2. 2. 2. 2. 2. 2. 2. 2. 2. 2. 2. 1. 2. 2. 2.]\n",
      "Task log10(best alpha): [1. 3. 3. 2. 3. 3. 3. 2. 2. 2. 2. 1. 3. 2. 1. 2. 3. 2. 3. 3.]\n"
     ]
    }
   ],
   "source": [
    "alphas = [1e-7, 1e-6, 1e-5, 1e-4, 1e-3, 1e-2, 1e-1, 1, 10, 100, 1e3, 1e4, 1e5, \n",
    "          1e6, 1e7, 1e8, 1e9, 1e10, 1e11, 1e12, 1e13, 1e14, 1e15, \n",
    "          1e20, 1e25, 1e30, 1e40, 1e50, 1e60, 1e70, 1e80, 1e90, 1e100]\n",
    "\n",
    "df_results_all = pd.DataFrame()\n",
    "for i in range(1, len(df_self_regulation.columns)):\n",
    "    results_survey = train_and_test_regularized_regressionCV(X = survey_arr, y = regulation_arr[:, i], splits = splits, \n",
    "                                                              alpha_options = alphas, regularization_type = 'Ridge')\n",
    "    results_task = train_and_test_regularized_regressionCV(X = task_arr, y = regulation_arr[:, i], splits = splits, \n",
    "                                                              alpha_options = alphas, regularization_type = 'Ridge')\n",
    "\n",
    "#     print('Survey results:',results_survey)\n",
    "#     print('Task results:',results_task)\n",
    "    print('\\n Self-regulation measure:', df_self_regulation.columns[i])\n",
    "    print('Survey log10(best alpha):', np.log10(results_survey['best alpha']))\n",
    "    print('Task log10(best alpha):', np.log10(results_task['best alpha']))\n",
    "       \n",
    "    df_results_survey = pd.DataFrame(results_survey)\n",
    "    df_results_survey['predictor'] = 'survey'\n",
    "    df_results_task = pd.DataFrame(results_task)\n",
    "    df_results_task['predictor'] = 'task'\n",
    "    df_resutls_combined = df_results_survey.append(df_results_task)\n",
    "    df_resutls_combined['regulation_measure'] = df_self_regulation.columns[i]\n",
    "    \n",
    "    df_results_all = df_results_all.append(df_resutls_combined)"
   ]
  },
  {
   "cell_type": "code",
   "execution_count": 32,
   "metadata": {},
   "outputs": [
    {
     "data": {
      "text/html": [
       "<div>\n",
       "<style scoped>\n",
       "    .dataframe tbody tr th:only-of-type {\n",
       "        vertical-align: middle;\n",
       "    }\n",
       "\n",
       "    .dataframe tbody tr th {\n",
       "        vertical-align: top;\n",
       "    }\n",
       "\n",
       "    .dataframe thead th {\n",
       "        text-align: right;\n",
       "    }\n",
       "</style>\n",
       "<table border=\"1\" class=\"dataframe\">\n",
       "  <thead>\n",
       "    <tr style=\"text-align: right;\">\n",
       "      <th></th>\n",
       "      <th>train</th>\n",
       "      <th>test</th>\n",
       "      <th>best alpha</th>\n",
       "      <th>predictor</th>\n",
       "      <th>regulation_measure</th>\n",
       "    </tr>\n",
       "  </thead>\n",
       "  <tbody>\n",
       "    <tr>\n",
       "      <td>0</td>\n",
       "      <td>0.059939</td>\n",
       "      <td>0.108342</td>\n",
       "      <td>10000.0</td>\n",
       "      <td>survey</td>\n",
       "      <td>Drug Use</td>\n",
       "    </tr>\n",
       "    <tr>\n",
       "      <td>1</td>\n",
       "      <td>0.113330</td>\n",
       "      <td>0.079082</td>\n",
       "      <td>1000.0</td>\n",
       "      <td>survey</td>\n",
       "      <td>Drug Use</td>\n",
       "    </tr>\n",
       "    <tr>\n",
       "      <td>2</td>\n",
       "      <td>0.125558</td>\n",
       "      <td>0.015607</td>\n",
       "      <td>1000.0</td>\n",
       "      <td>survey</td>\n",
       "      <td>Drug Use</td>\n",
       "    </tr>\n",
       "    <tr>\n",
       "      <td>3</td>\n",
       "      <td>0.151777</td>\n",
       "      <td>-0.136644</td>\n",
       "      <td>1000.0</td>\n",
       "      <td>survey</td>\n",
       "      <td>Drug Use</td>\n",
       "    </tr>\n",
       "    <tr>\n",
       "      <td>4</td>\n",
       "      <td>0.049905</td>\n",
       "      <td>0.060993</td>\n",
       "      <td>10000.0</td>\n",
       "      <td>survey</td>\n",
       "      <td>Drug Use</td>\n",
       "    </tr>\n",
       "    <tr>\n",
       "      <td>...</td>\n",
       "      <td>...</td>\n",
       "      <td>...</td>\n",
       "      <td>...</td>\n",
       "      <td>...</td>\n",
       "      <td>...</td>\n",
       "    </tr>\n",
       "    <tr>\n",
       "      <td>15</td>\n",
       "      <td>0.163231</td>\n",
       "      <td>0.028364</td>\n",
       "      <td>100.0</td>\n",
       "      <td>task</td>\n",
       "      <td>Income / Life Milestones</td>\n",
       "    </tr>\n",
       "    <tr>\n",
       "      <td>16</td>\n",
       "      <td>0.100426</td>\n",
       "      <td>-0.076632</td>\n",
       "      <td>1000.0</td>\n",
       "      <td>task</td>\n",
       "      <td>Income / Life Milestones</td>\n",
       "    </tr>\n",
       "    <tr>\n",
       "      <td>17</td>\n",
       "      <td>0.170742</td>\n",
       "      <td>-0.007332</td>\n",
       "      <td>100.0</td>\n",
       "      <td>task</td>\n",
       "      <td>Income / Life Milestones</td>\n",
       "    </tr>\n",
       "    <tr>\n",
       "      <td>18</td>\n",
       "      <td>0.091789</td>\n",
       "      <td>0.022913</td>\n",
       "      <td>1000.0</td>\n",
       "      <td>task</td>\n",
       "      <td>Income / Life Milestones</td>\n",
       "    </tr>\n",
       "    <tr>\n",
       "      <td>19</td>\n",
       "      <td>0.088197</td>\n",
       "      <td>0.069079</td>\n",
       "      <td>1000.0</td>\n",
       "      <td>task</td>\n",
       "      <td>Income / Life Milestones</td>\n",
       "    </tr>\n",
       "  </tbody>\n",
       "</table>\n",
       "<p>320 rows × 5 columns</p>\n",
       "</div>"
      ],
      "text/plain": [
       "       train      test  best alpha predictor        regulation_measure\n",
       "0   0.059939  0.108342     10000.0    survey                  Drug Use\n",
       "1   0.113330  0.079082      1000.0    survey                  Drug Use\n",
       "2   0.125558  0.015607      1000.0    survey                  Drug Use\n",
       "3   0.151777 -0.136644      1000.0    survey                  Drug Use\n",
       "4   0.049905  0.060993     10000.0    survey                  Drug Use\n",
       "..       ...       ...         ...       ...                       ...\n",
       "15  0.163231  0.028364       100.0      task  Income / Life Milestones\n",
       "16  0.100426 -0.076632      1000.0      task  Income / Life Milestones\n",
       "17  0.170742 -0.007332       100.0      task  Income / Life Milestones\n",
       "18  0.091789  0.022913      1000.0      task  Income / Life Milestones\n",
       "19  0.088197  0.069079      1000.0      task  Income / Life Milestones\n",
       "\n",
       "[320 rows x 5 columns]"
      ]
     },
     "execution_count": 32,
     "metadata": {},
     "output_type": "execute_result"
    }
   ],
   "source": [
    "df_performance = df_performance.melt(id_vars=['region'], value_vars=['train', 'test'], \n",
    "                                     value_name='r2', var_name = 'set')\n",
    "df_results_all"
   ]
  },
  {
   "cell_type": "code",
   "execution_count": 37,
   "metadata": {},
   "outputs": [
    {
     "data": {
      "image/png": "[encoded data removed]",
      "text/plain": [
       "<Figure size 640x480 with 1 Axes>"
      ]
     },
     "metadata": {},
     "output_type": "display_data"
    },
    {
     "name": "stdout",
     "output_type": "stream",
     "text": [
      "<ggplot: (-9223371875567601590)>\n"
     ]
    },
    {
     "data": {
      "image/png": "[encoded data removed]",
      "text/plain": [
       "<Figure size 640x480 with 1 Axes>"
      ]
     },
     "metadata": {},
     "output_type": "display_data"
    },
    {
     "name": "stdout",
     "output_type": "stream",
     "text": [
      "<ggplot: (-9223371875569391465)>\n"
     ]
    }
   ],
   "source": [
    "# plot results\n",
    "p_test = (ggplot(df_results_all, aes('regulation_measure', 'test', fill = 'predictor')) +\\\n",
    "stat_summary(fun_y = np.mean,\n",
    "                geom = 'bar',\n",
    "                color = 'black',\n",
    "                position = position_dodge(width = .9)) +\\\n",
    "stat_summary(fun_data = 'mean_cl_boot', # error_bar: confidence interval\n",
    "                geom = 'linerange',\n",
    "                position = position_dodge(width = .9)) +\\\n",
    "labs(title = 'Test performance: survery vs. task', y = 'R-squared', x = \"\") +\\\n",
    "theme(axis_text_x=element_text(rotation=25)))\n",
    "print(p_test)\n",
    "\n",
    "p_train = (ggplot(df_results_all, aes('regulation_measure', 'train', fill = 'predictor')) +\\\n",
    "stat_summary(fun_y = np.mean,\n",
    "                geom = 'bar',\n",
    "                color = 'black',\n",
    "                position = position_dodge(width = .9)) +\\\n",
    "stat_summary(fun_data = 'mean_cl_boot', # error_bar: confidence interval\n",
    "                geom = 'linerange',\n",
    "                position = position_dodge(width = .9)) +\\\n",
    "labs(title = 'Train performance: survery vs. task', y = 'R-squared', x = \"\") +\\\n",
    "theme(axis_text_x=element_text(rotation=25)))\n",
    "print(p_train)"
   ]
  },
  {
   "cell_type": "markdown",
   "metadata": {},
   "source": [
    "__Conclusion:__ Generall, survey and task data are not very predictive of self-regulation measures (low test R-squared). Relatively, survey data predicts better than task data."
   ]
  }
 ],
 "metadata": {
  "kernelspec": {
   "display_name": "Python 3",
   "language": "python",
   "name": "python3"
  },
  "language_info": {
   "codemirror_mode": {
    "name": "ipython",
    "version": 3
   },
   "file_extension": ".py",
   "mimetype": "text/x-python",
   "name": "python",
   "nbconvert_exporter": "python",
   "pygments_lexer": "ipython3",
   "version": "3.7.3"
  }
 },
 "nbformat": 4,
 "nbformat_minor": 2
}
