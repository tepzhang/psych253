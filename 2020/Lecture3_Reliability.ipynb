{
 "cells": [
  {
   "cell_type": "markdown",
   "metadata": {
    "deletable": true,
    "editable": true
   },
   "source": [
    "## Lecture 3: Reliability\n",
    "\n"
   ]
  },
  {
   "cell_type": "code",
   "execution_count": 1,
   "metadata": {
    "collapsed": true,
    "deletable": true,
    "editable": true
   },
   "outputs": [],
   "source": [
    "import os\n",
    "import collections\n",
    "import numpy as np\n",
    "import pandas as pd\n",
    "import seaborn as sns\n",
    "import json\n",
    "from scipy import stats\n",
    "from sklearn.preprocessing import scale\n",
    "import matplotlib.pyplot as plt"
   ]
  },
  {
   "cell_type": "markdown",
   "metadata": {
    "deletable": true,
    "editable": true
   },
   "source": [
    "## Reliability: Data as a model of itself\n",
    "\n",
    "Here we will use data from the Self Regulation Ontology (SRO) project to assess reliability.  We will focus on one particular measure, the Barratt Impulsiveness Scale, which has a total of 30 items.\n",
    "\n",
    "### Test-retest reliability\n",
    "\n",
    "First we will look at data from the 150 subjects who performed the entire battery twice.  The correlation between the scores on each of the sessions is known as *test-retest reliability* and is the most common way to assess reliability in psychology.\n"
   ]
  },
  {
   "cell_type": "code",
   "execution_count": 2,
   "metadata": {
    "collapsed": false,
    "deletable": true,
    "editable": true
   },
   "outputs": [
    {
     "name": "stdout",
     "output_type": "stream",
     "text": [
      "(522, 60)\n"
     ]
    }
   ],
   "source": [
    "SRO_datadir = 'data/SRO'\n",
    "\n",
    "SRO_origdata = pd.read_csv(\n",
    "    os.path.join(SRO_datadir, 'orig_subjects_x_items.csv'),\n",
    "    index_col=0)\n",
    "SRO_retestdata = pd.read_csv(\n",
    "    os.path.join(SRO_datadir, 'retest_subjects_x_items.csv'),\n",
    "    index_col=0)\n",
    "\n",
    "# combine orig and retest data\n",
    "# original variables will have suffix _orig, retest variables have _retest\n",
    "\n",
    "SROdata = SRO_origdata.join(SRO_retestdata, lsuffix='_orig', rsuffix='_retest')\n",
    "\n",
    "# extract BIS-11 survey variables\n",
    "\n",
    "BISdata = SROdata[[col for col in SROdata.columns if 'bis11_survey' in col]]\n",
    "print(BISdata.shape)\n"
   ]
  },
  {
   "cell_type": "code",
   "execution_count": 3,
   "metadata": {
    "collapsed": false,
    "deletable": true,
    "editable": true
   },
   "outputs": [
    {
     "name": "stderr",
     "output_type": "stream",
     "text": [
      "/Users/poldrack/anaconda3/envs/py37/lib/python3.7/site-packages/pandas/core/indexing.py:844: SettingWithCopyWarning: \n",
      "A value is trying to be set on a copy of a slice from a DataFrame.\n",
      "Try using .loc[row_indexer,col_indexer] = value instead\n",
      "\n",
      "See the caveats in the documentation: https://pandas.pydata.org/pandas-docs/stable/user_guide/indexing.html#returning-a-view-versus-a-copy\n",
      "  self.obj[key] = _infer_fill_value(value)\n",
      "/Users/poldrack/anaconda3/envs/py37/lib/python3.7/site-packages/pandas/core/indexing.py:1046: SettingWithCopyWarning: \n",
      "A value is trying to be set on a copy of a slice from a DataFrame.\n",
      "Try using .loc[row_indexer,col_indexer] = value instead\n",
      "\n",
      "See the caveats in the documentation: https://pandas.pydata.org/pandas-docs/stable/user_guide/indexing.html#returning-a-view-versus-a-copy\n",
      "  self.obj[item_labels[indexer[info_axis]]] = value\n"
     ]
    },
    {
     "data": {
      "text/plain": [
       "(150, 62)"
      ]
     },
     "execution_count": 3,
     "metadata": {},
     "output_type": "execute_result"
    }
   ],
   "source": [
    "# compute total scores for each measure\n",
    "\n",
    "BISdata.loc[:, 'mean_test1'] = BISdata[[col for col in BISdata if '_orig' in col]].mean(1)\n",
    "BISdata.loc[:, 'mean_test2'] = BISdata[[col for col in BISdata if '_retest' in col]].mean(1)\n",
    "\n",
    "# subjects who did not perform retest have NA for the missing variables\n",
    "# we can subset just the retest subjects by dropping all rows with NA values\n",
    "\n",
    "BISdata_test_retest = BISdata.dropna()\n",
    "BISdata_test_retest.shape"
   ]
  },
  {
   "cell_type": "code",
   "execution_count": 4,
   "metadata": {
    "collapsed": false,
    "deletable": true,
    "editable": true
   },
   "outputs": [
    {
     "data": {
      "text/plain": [
       "Text(0, 0.5, 'BIS11 Overall - Retest score')"
      ]
     },
     "execution_count": 4,
     "metadata": {},
     "output_type": "execute_result"
    },
    {
     "data": {
      "image/png": "[encoded data removed]",
      "text/plain": [
       "<Figure size 432x288 with 1 Axes>"
      ]
     },
     "metadata": {
      "needs_background": "light"
     },
     "output_type": "display_data"
    }
   ],
   "source": [
    "# create a scatter plot for test vs retest data\n",
    "plt.scatter(BISdata_test_retest['mean_test1'], \n",
    "            BISdata_test_retest['mean_test2'])\n",
    "plt.plot([1, 3], [1, 3], color='black')\n",
    "plt.xlabel('BIS11 Overall - Original')\n",
    "plt.ylabel('BIS11 Overall - Retest score')\n"
   ]
  },
  {
   "cell_type": "markdown",
   "metadata": {
    "deletable": true,
    "editable": true
   },
   "source": [
    "There are clearly a couple of outliers here, but in general the scores seem fairly consistent between the two tests. We can quantify this using the Pearson correlation:"
   ]
  },
  {
   "cell_type": "code",
   "execution_count": 5,
   "metadata": {
    "collapsed": false,
    "deletable": true,
    "editable": true
   },
   "outputs": [
    {
     "data": {
      "text/plain": [
       "SpearmanrResult(correlation=0.8258583305175007, pvalue=1.1835708795040622e-38)"
      ]
     },
     "execution_count": 32,
     "metadata": {},
     "output_type": "execute_result"
    }
   ],
   "source": [
    "#retest_reliability = np.corrcoef(BISdata_test_retest['mean_test1'], BISdata_test_retest['mean_test2'])[0, 1]im\n",
    "\n",
    "import scipy.stats\n",
    "scipy.stats.spearmanr(BISdata_test_retest['mean_test1'], BISdata_test_retest['mean_test2'])\n",
    "#retest_reliability"
   ]
  },
  {
   "cell_type": "markdown",
   "metadata": {
    "deletable": true,
    "editable": true
   },
   "source": [
    "### Split-half reliability\n",
    "\n",
    "In the previous case, we had two overall scores for each individual.  However, those two scores were based on responses over a set of 30 total items.  Another way to assess reliability would be to randomly split those items into half, and look at the correlation between the two splits.\n",
    "\n",
    "In order to make the dataset clearer, we will load the actual text for each of the items (which are stored in a metadata file in the JSON format), and use those as variable names in the data frame."
   ]
  },
  {
   "cell_type": "code",
   "execution_count": 6,
   "metadata": {
    "collapsed": true,
    "deletable": true,
    "editable": true
   },
   "outputs": [],
   "source": [
    "# set up the item level data for BIS-11 in the original sample\n",
    "\n",
    "BIS11_itemdata = SRO_origdata[[col for col in SRO_origdata.columns if 'bis11_survey' in col]].dropna()\n",
    "print(BIS11_itemdata.shape)\n",
    "\n",
    "## first load item metadata\n",
    "with open(os.path.join(SRO_datadir, 'bis11_survey.json')) as f:\n",
    "    bis11_metadata = json.load(f)\n",
    "\n",
    "# make metadata dict for column names\n",
    "bis11_itemdict = {}\n",
    "for i in bis11_metadata:\n",
    "    if 'bis11' not in i:\n",
    "        continue\n",
    "    colname_split = i.split('survey_')\n",
    "    colname = 'bis11_survey.%02.f' % (int(colname_split[1]))\n",
    "    \n",
    "    bis11_itemdict[colname] = bis11_metadata[i]['Description']\n",
    "\n",
    "BIS11_itemdata = BIS11_itemdata.rename(columns=bis11_itemdict)"
   ]
  },
  {
   "cell_type": "code",
   "execution_count": 7,
   "metadata": {
    "collapsed": false,
    "deletable": true,
    "editable": true
   },
   "outputs": [
    {
     "data": {
      "text/plain": [
       "<seaborn.matrix.ClusterGrid at 0x1262ae390>"
      ]
     },
     "execution_count": 42,
     "metadata": {},
     "output_type": "execute_result"
    },
    {
     "data": {
      "image/png": "[encoded data removed]",
      "text/plain": [
       "<Figure size 720x720 with 4 Axes>"
      ]
     },
     "metadata": {
      "needs_background": "light"
     },
     "output_type": "display_data"
    }
   ],
   "source": [
    "# Compute the correlation matrix across pairs items\n",
    "cc = BIS11_itemdata.corr()\n",
    "\n",
    "# display a cluster map\n",
    "\n",
    "sns.clustermap(cc, method='ward')"
   ]
  },
  {
   "cell_type": "markdown",
   "metadata": {
    "deletable": true,
    "editable": true
   },
   "source": [
    "Let's look at the split-half reliability of these items.  The basic idea is as follows:\n",
    "\n",
    "- split the data into two sets of a particular size (randomly)\n",
    "- assess the correlation between the splits\n"
   ]
  },
  {
   "cell_type": "code",
   "execution_count": 8,
   "metadata": {
    "collapsed": true,
    "deletable": true,
    "editable": true
   },
   "outputs": [],
   "source": [
    "#here's a very simple implementation of split-half reliability\n",
    "#this is a NON-boostrapping version\n",
    "\n",
    "def get_correlation(data_by_trial, num_trials=None, \n",
    "                    num_splits=1000, random_seed=0,\n",
    "                    statfunc=None):\n",
    "    \"\"\"arguments:\n",
    "          data_by_trial (numpy array): the data\n",
    "             assumes a tensor with structure is (observation units, trials)\n",
    "             - e.g. (subjects, trials), or (items, trials)\n",
    "             \n",
    "          num_trials(nonnegative integer): how many trials to consider (None for all)\n",
    "          \n",
    "          num_splits (nonnegative integer): how many splits of the data to make\n",
    "\n",
    "          random_seed (nonnegative integer): seed to use for random number generation (None for time-based seed)\n",
    "          \n",
    "          statfunc: (function): an arbitrary statistical function that returns a scalar (None for pearson r)\n",
    "          \n",
    "       returns:\n",
    "          array of length num_splits\n",
    "    \"\"\"\n",
    "\n",
    "    # if it's a pandas data frame then convert to numpy array\n",
    "    if isinstance(data_by_trial, pd.DataFrame):\n",
    "        data_by_trial = data_by_trial.values\n",
    "\n",
    "    #get total number of trials\n",
    "    num_total_trials = data_by_trial.shape[1]\n",
    "    \n",
    "    if num_trials is None:\n",
    "        num_trials = num_total_trials\n",
    "\n",
    "    #you better not ask for more trials than you actually have\n",
    "    assert num_trials <= num_total_trials,\\\n",
    "        \"You asked for %d trials but there's only %d\" % (num_trials, num_total_trials)\n",
    "    \n",
    "    #we want to make sure that while we select groups of trials basically randomly,\n",
    "    #that we can still exactly reproduce our results later\n",
    "    #so to do this, we use a constructed random number generator to select trial groups\n",
    "    #and seed the generator with seed = 0 (could be any non-negative integer, but the seed\n",
    "    #*must* be set for this to be reproducible\n",
    "    random_number_generator = np.random.RandomState(seed=random_seed)\n",
    "\n",
    "    corrvals = []\n",
    "    for split_index in range(num_splits):\n",
    "        #construct a new permutation of the trial indices\n",
    "        perm =  random_number_generator.permutation(num_total_trials)\n",
    "    \n",
    "        #take the first num_trials/2 and second num_trials/2 pieces of the data\n",
    "        first_half_of_trial_indices = perm[:int(num_trials / 2)]\n",
    "        second_half_of_trial_indices = perm[int(num_trials / 2): num_trials]\n",
    "        \n",
    "        #mean over trial dimension\n",
    "        mean_first_half_of_trials = data_by_trial[\n",
    "            :, first_half_of_trial_indices].mean(axis=1)\n",
    "\n",
    "        mean_second_half_of_trials = data_by_trial[\n",
    "            :, second_half_of_trial_indices].mean(axis=1)\n",
    "        \n",
    "        #compute the correlation between the means\n",
    "        if statfunc is None:\n",
    "            corrval = stats.pearsonr(mean_first_half_of_trials, \n",
    "                                 mean_second_half_of_trials)[0]\n",
    "        else:\n",
    "            corrval = statfunc(mean_first_half_of_trials, \n",
    "                                 mean_second_half_of_trials)\n",
    "        #add to the list\n",
    "        corrvals.append(corrval)\n",
    "        \n",
    "    return np.array(corrvals)"
   ]
  },
  {
   "cell_type": "code",
   "execution_count": 9,
   "metadata": {
    "collapsed": false,
    "deletable": true,
    "editable": true
   },
   "outputs": [
    {
     "data": {
      "text/plain": [
       "0.7943460948445455"
      ]
     },
     "execution_count": 9,
     "metadata": {},
     "output_type": "execute_result"
    }
   ],
   "source": [
    "corrvals = get_correlation(BIS11_itemdata)\n",
    "np.mean(corrvals)"
   ]
  },
  {
   "cell_type": "markdown",
   "metadata": {
    "deletable": true,
    "editable": true
   },
   "source": [
    "Here we are using all of the items, but we can also see what happens when we only use a subset of items. "
   ]
  },
  {
   "cell_type": "code",
   "execution_count": 10,
   "metadata": {
    "collapsed": true,
    "deletable": true,
    "editable": true
   },
   "outputs": [],
   "source": [
    "split_half_by_num_trials = pd.DataFrame(\n",
    "    {'ntrials': [i for i in range(4, 31, 2)]})\n",
    "\n",
    "\n",
    "for idx in split_half_by_num_trials.index:\n",
    "    corrs = get_correlation(BIS11_itemdata,\n",
    "                            split_half_by_num_trials.loc[idx, 'ntrials'])\n",
    "    split_half_by_num_trials.loc[idx, 'meancorr'] = np.mean(corrs)\n",
    "    "
   ]
  },
  {
   "cell_type": "code",
   "execution_count": 49,
   "metadata": {},
   "outputs": [
    {
     "data": {
      "text/html": [
       "<div>\n",
       "<style scoped>\n",
       "    .dataframe tbody tr th:only-of-type {\n",
       "        vertical-align: middle;\n",
       "    }\n",
       "\n",
       "    .dataframe tbody tr th {\n",
       "        vertical-align: top;\n",
       "    }\n",
       "\n",
       "    .dataframe thead th {\n",
       "        text-align: right;\n",
       "    }\n",
       "</style>\n",
       "<table border=\"1\" class=\"dataframe\">\n",
       "  <thead>\n",
       "    <tr style=\"text-align: right;\">\n",
       "      <th></th>\n",
       "      <th>ntrials</th>\n",
       "      <th>meancorr</th>\n",
       "    </tr>\n",
       "  </thead>\n",
       "  <tbody>\n",
       "    <tr>\n",
       "      <th>0</th>\n",
       "      <td>4</td>\n",
       "      <td>0.322581</td>\n",
       "    </tr>\n",
       "    <tr>\n",
       "      <th>1</th>\n",
       "      <td>6</td>\n",
       "      <td>0.430054</td>\n",
       "    </tr>\n",
       "    <tr>\n",
       "      <th>2</th>\n",
       "      <td>8</td>\n",
       "      <td>0.500645</td>\n",
       "    </tr>\n",
       "    <tr>\n",
       "      <th>3</th>\n",
       "      <td>10</td>\n",
       "      <td>0.558360</td>\n",
       "    </tr>\n",
       "    <tr>\n",
       "      <th>4</th>\n",
       "      <td>12</td>\n",
       "      <td>0.602040</td>\n",
       "    </tr>\n",
       "    <tr>\n",
       "      <th>5</th>\n",
       "      <td>14</td>\n",
       "      <td>0.639632</td>\n",
       "    </tr>\n",
       "    <tr>\n",
       "      <th>6</th>\n",
       "      <td>16</td>\n",
       "      <td>0.669176</td>\n",
       "    </tr>\n",
       "    <tr>\n",
       "      <th>7</th>\n",
       "      <td>18</td>\n",
       "      <td>0.696404</td>\n",
       "    </tr>\n",
       "    <tr>\n",
       "      <th>8</th>\n",
       "      <td>20</td>\n",
       "      <td>0.717937</td>\n",
       "    </tr>\n",
       "    <tr>\n",
       "      <th>9</th>\n",
       "      <td>22</td>\n",
       "      <td>0.737144</td>\n",
       "    </tr>\n",
       "    <tr>\n",
       "      <th>10</th>\n",
       "      <td>24</td>\n",
       "      <td>0.752905</td>\n",
       "    </tr>\n",
       "    <tr>\n",
       "      <th>11</th>\n",
       "      <td>26</td>\n",
       "      <td>0.769742</td>\n",
       "    </tr>\n",
       "    <tr>\n",
       "      <th>12</th>\n",
       "      <td>28</td>\n",
       "      <td>0.781910</td>\n",
       "    </tr>\n",
       "    <tr>\n",
       "      <th>13</th>\n",
       "      <td>30</td>\n",
       "      <td>0.794346</td>\n",
       "    </tr>\n",
       "  </tbody>\n",
       "</table>\n",
       "</div>"
      ],
      "text/plain": [
       "    ntrials  meancorr\n",
       "0         4  0.322581\n",
       "1         6  0.430054\n",
       "2         8  0.500645\n",
       "3        10  0.558360\n",
       "4        12  0.602040\n",
       "5        14  0.639632\n",
       "6        16  0.669176\n",
       "7        18  0.696404\n",
       "8        20  0.717937\n",
       "9        22  0.737144\n",
       "10       24  0.752905\n",
       "11       26  0.769742\n",
       "12       28  0.781910\n",
       "13       30  0.794346"
      ]
     },
     "execution_count": 49,
     "metadata": {},
     "output_type": "execute_result"
    }
   ],
   "source": [
    "split_half_by_num_trials"
   ]
  },
  {
   "cell_type": "code",
   "execution_count": 11,
   "metadata": {
    "collapsed": false,
    "deletable": true,
    "editable": true
   },
   "outputs": [
    {
     "data": {
      "text/plain": [
       "Text(0, 0.5, 'Reliability')"
      ]
     },
     "execution_count": 11,
     "metadata": {},
     "output_type": "execute_result"
    },
    {
     "data": {
      "image/png": "[encoded data removed]",
      "text/plain": [
       "<Figure size 432x288 with 1 Axes>"
      ]
     },
     "metadata": {
      "needs_background": "light"
     },
     "output_type": "display_data"
    }
   ],
   "source": [
    "plt.plot(split_half_by_num_trials.ntrials, split_half_by_num_trials.meancorr)\n",
    "plt.xlabel('Number of trials (split into 2 sets)')\n",
    "plt.ylabel('Reliability')\n"
   ]
  },
  {
   "cell_type": "markdown",
   "metadata": {
    "deletable": true,
    "editable": true
   },
   "source": [
    "### The prophecy formula\n",
    "\n",
    "This relation between the number of measurements and reliability follows a lawful relationship, known as the *Spearman-Brown prophecy* formula:\n",
    "\n",
    "$$\n",
    "\\rho_k = \\frac{k * \\rho}{1 + (k-1)*\\rho}\n",
    "$$\n",
    "\n",
    "where $\\rho$ is the reliability obtained for a particular number of trials $t$, and $k$ is the multiple of $t$ for which you wish to determine the estimated reliability.\n",
    "\n",
    "Here let's take the mean reliability estimated for a total of 4 items, and use it to extrapolate the reliability for larger item sets.\n"
   ]
  },
  {
   "cell_type": "code",

   "execution_count": 12,
   "metadata": {
    "collapsed": false,
    "deletable": true,
    "editable": true
   },
   "outputs": [
    {
     "data": {
      "text/plain": [
       "<matplotlib.legend.Legend at 0x11c2ad8d0>"
      ]
     },
     "execution_count": 90,
     "metadata": {},
     "output_type": "execute_result"
    },
    {
     "data": {
      "image/png": "[encoded data removed]",
      "text/plain": [
       "<Figure size 432x288 with 1 Axes>"
      ]
     },
     "metadata": {
      "needs_background": "light"
     },
     "output_type": "display_data"
    }
   ],
   "source": [
    "def get_spearman_brown(rho, k):\n",
    "    \"\"\"\n",
    "    return Spearman-Brown prophecy value\n",
    "    \n",
    "    Parameters:\n",
    "    ----------\n",
    "    rho: scalar, correlation that is basis for prediction\n",
    "    k: multiple of # of trials with which rho is computed\n",
    "    \"\"\"\n",
    "    return((k*rho)/(1 + (k-1)*rho))\n",
    "\n",
    "base_ntrials=4  # which row in \n",
    "rho = split_half_by_num_trials.query(f'ntrials == {base_ntrials}').loc[0, 'meancorr']\n",
    "\n",
    "spearman_brown = pd.DataFrame({'nitems': np.arange(4, 31)})\n",
    "\n",
    "for idx in spearman_brown.index:\n",
    "    k = spearman_brown.loc[idx, 'nitems']/base_ntrials\n",
    "    spearman_brown.loc[idx, 'sb'] = get_spearman_brown(rho, k)\n",
    "    \n",
    "plt.plot(split_half_by_num_trials.ntrials, split_half_by_num_trials.meancorr)\n",
    "plt.plot(spearman_brown.nitems, spearman_brown.sb)\n",
    "plt.xlabel('Number of trials (split into 2 sets)')\n",
    "plt.ylabel('Reliability')\n",
    "plt.legend(['Split-half reliability', 'Spearman-Brown prediction'])"
   ]
  },
  {
   "cell_type": "markdown",
   "metadata": {
    "deletable": true,
    "editable": true
   },
   "source": [
    "### Internal consistency\n",
    "\n",
    "Another related approach often used in psychology is to assess the overall consistency of responses between pairs of items, often referred to as *internal consistency*.  A commonly used metric for internal consistency is *Chronbach's alpha*. A standardized version of it can be computed as follows:\n",
    "\n",
    "$$\n",
    "\\alpha_{standardized} = \\frac{K * \\bar{r}}{1 + (K - 1) * \\bar{r}}\n",
    "$$\n",
    "\n",
    "where $K$ is the number of items on the test, and $\\bar{r}$ is the average correlation between all items.  (You may notice that this is exactly the prophecy formula, plugging in the mean correlation for rho and the number of items for K).  We can compute this directly from the correlation matrix between items:\n"
   ]
  },
  {
   "cell_type": "code",
   "execution_count": 65,
   "metadata": {},
   "outputs": [
    {
     "name": "stdout",
     "output_type": "stream",
     "text": [
      "alpha: 0.8875056727687484\n",
      "corrected split-half:0.8853878269379958\n"
     ]
    }
   ],
   "source": [
    "corrmtx = np.corrcoef(BIS11_itemdata.T)\n",
    "mean_r = np.mean(corrmtx[np.triu_indices_from(corrmtx,1)])\n",
    "K = BIS11_itemdata.shape[1]\n",
    "alpha = (K*mean_r) / (1 + (K-1)*mean_r)\n",
    "print(f'alpha: {alpha}')\n",
    "\n",
    "# compare to split-half after correcting for number of items using spearman-brown\n",
    "print(f'corrected split-half:{get_spearman_brown(split_half_by_num_trials.meancorr.iloc[-1], 2)}')"
   ]
  },
  {
   "cell_type": "markdown",
   "metadata": {},
   "source": [
    "## Reliability in psychometrics\n",
    "\n",
    "Within psychometrics, there is a tradition of thinking of reliability in terms of the relationship between an observed (or \"manifest\") variable, and the value of an underlying (or \"latent\") variable that gives rise to the observed value in combination with some degree of measurement error. \n",
    "\n",
    "This is often conceptualized in terms of a *path diagram*, in which arrows reflect influences from the latent variables (shows as ellipses or circles) to the measured variables (shown as boxes).  We will see this in more detail later when we discuss structural equation modeling.\n",
    "\n",
    "Let's say that we have data from four different measures, of which two are measures of one latent variable (impulsivity) and the other two are measures of another latent variable (impatience).  Here is a path diagram for these variables (To see the code that generated it, look at PathDiagramExample.Rmd in this directory):\n",
    "\n",
    "\n",
    "![title](path_diagram.png)"
   ]
  },
  {
   "cell_type": "markdown",
   "metadata": {
    "deletable": true,
    "editable": true
   },
   "source": [
    "In this section we will work with simulated data, so that we know the true underlying scores for each individual. Let's generate some data from this model. We will treat the latent variables as normally distributed, with some degree of correlation."
   ]
  },
  {
   "cell_type": "code",
   "execution_count": 13,
   "metadata": {
    "collapsed": true,
    "deletable": true,
    "editable": true
   },
   "outputs": [],
   "source": [
    "def make_data(n_subjects=500,\n",
    "              corr=0.5,\n",
    "              error_var=0.5,\n",
    "              scale_data=True,\n",
    "              latent_seed=None,\n",
    "              betavals=None):\n",
    "    \"\"\"\n",
    "    create observed measurements from latent variables\n",
    "    \n",
    "    Parameters:\n",
    "    ------------\n",
    "    n_subjects: int, number of observations\n",
    "    corr: float, population correlation between latent variables\n",
    "    error_var: float, rror variance\n",
    "    scale_data: bool, should we scale the variables?\n",
    "    latent_seed: int or None, if set, will generate the same latent values each time (with different noise)\n",
    "    betavals: dict, beta values for pairs of latent and observed variables\n",
    "    \"\"\"\n",
    "    \n",
    "    # create latent variables - multivariate normal with specified correlation\n",
    "\n",
    "    if latent_seed is not None:\n",
    "        rng = np.random.RandomState(seed=latent_seed)\n",
    "\n",
    "    latents = rng.multivariate_normal(mean=[0, 0], \n",
    "                                    cov=[[1, corr], [corr, 1]],\n",
    "                                    size=n_subjects)\n",
    "    if scale_data:\n",
    "        latents = scale(latents)\n",
    "\n",
    "    df = pd.DataFrame(latents, columns=['impulsivity', 'impatience'])\n",
    "\n",
    "    # create matrix to project latents into observed\n",
    "\n",
    "    beta = pd.DataFrame(np.zeros((2, 4)), \n",
    "                        columns=['BIS', 'UPPS-P', 'Kirby', 'Bickel'],\n",
    "                        index=df.columns)\n",
    "    if betavals is None:\n",
    "        betavals = {('impulsivity', 'BIS'): 1,\n",
    "                    ('impulsivity', 'UPPS-P'): 1,\n",
    "                    ('impatience', 'Bickel'): 1,\n",
    "                    ('impatience', 'Kirby'): 1}\n",
    "    for b in betavals:\n",
    "        beta.loc[b[0], b[1]] = betavals[b]\n",
    "\n",
    "    # create measurement noise, assume all variables have equal noise\n",
    "    rng = np.random.RandomState(seed=None) # ensure different noise each time\n",
    "    measurement_noise = rng.multivariate_normal(\n",
    "        mean=[0, 0, 0, 0], \n",
    "        cov=np.eye(4)*error_var,\n",
    "        size=n_subjects)\n",
    "\n",
    "    # create observed data\n",
    "    observed = df.dot(beta) + measurement_noise\n",
    "\n",
    "    if scale_data:\n",
    "        observed = (observed - observed.mean(axis=0)) / observed.std(axis=0)\n",
    "\n",
    "    df = result = pd.concat([df, observed], axis=1)\n",
    "\n",
    "    return(df)"
   ]
  },
  {
   "cell_type": "code",
   "execution_count": 14,
   "metadata": {
    "collapsed": false,
    "deletable": true,
    "editable": true
   },
   "outputs": [
    {
     "data": {
      "text/html": [
       "<div>\n",
       "<style scoped>\n",
       "    .dataframe tbody tr th:only-of-type {\n",
       "        vertical-align: middle;\n",
       "    }\n",
       "\n",
       "    .dataframe tbody tr th {\n",
       "        vertical-align: top;\n",
       "    }\n",
       "\n",
       "    .dataframe thead th {\n",
       "        text-align: right;\n",
       "    }\n",
       "</style>\n",
       "<table border=\"1\" class=\"dataframe\">\n",
       "  <thead>\n",
       "    <tr style=\"text-align: right;\">\n",
       "      <th></th>\n",
       "      <th>impulsivity</th>\n",
       "      <th>impatience</th>\n",
       "      <th>BIS</th>\n",
       "      <th>UPPS-P</th>\n",
       "      <th>Kirby</th>\n",
       "      <th>Bickel</th>\n",
       "    </tr>\n",
       "  </thead>\n",
       "  <tbody>\n",
       "    <tr>\n",
       "      <th>0</th>\n",
       "      <td>1.118017</td>\n",
       "      <td>0.448284</td>\n",
       "      <td>2.114806</td>\n",
       "      <td>1.461345</td>\n",
       "      <td>0.670568</td>\n",
       "      <td>0.655593</td>\n",
       "    </tr>\n",
       "    <tr>\n",
       "      <th>1</th>\n",
       "      <td>0.338058</td>\n",
       "      <td>1.071326</td>\n",
       "      <td>0.822310</td>\n",
       "      <td>-0.360849</td>\n",
       "      <td>1.054650</td>\n",
       "      <td>0.831797</td>\n",
       "    </tr>\n",
       "    <tr>\n",
       "      <th>2</th>\n",
       "      <td>0.959298</td>\n",
       "      <td>1.738913</td>\n",
       "      <td>1.372216</td>\n",
       "      <td>1.290670</td>\n",
       "      <td>1.468835</td>\n",
       "      <td>2.231803</td>\n",
       "    </tr>\n",
       "    <tr>\n",
       "      <th>3</th>\n",
       "      <td>-1.600353</td>\n",
       "      <td>-1.283437</td>\n",
       "      <td>-1.894713</td>\n",
       "      <td>-0.589456</td>\n",
       "      <td>-1.217293</td>\n",
       "      <td>0.713185</td>\n",
       "    </tr>\n",
       "    <tr>\n",
       "      <th>4</th>\n",
       "      <td>1.524102</td>\n",
       "      <td>-0.491539</td>\n",
       "      <td>1.877221</td>\n",
       "      <td>1.375407</td>\n",
       "      <td>-0.232150</td>\n",
       "      <td>0.122215</td>\n",
       "    </tr>\n",
       "  </tbody>\n",
       "</table>\n",
       "</div>"
      ],
      "text/plain": [
       "   impulsivity  impatience       BIS    UPPS-P     Kirby    Bickel\n",
       "0     1.118017    0.448284  2.114806  1.461345  0.670568  0.655593\n",
       "1     0.338058    1.071326  0.822310 -0.360849  1.054650  0.831797\n",
       "2     0.959298    1.738913  1.372216  1.290670  1.468835  2.231803\n",
       "3    -1.600353   -1.283437 -1.894713 -0.589456 -1.217293  0.713185\n",
       "4     1.524102   -0.491539  1.877221  1.375407 -0.232150  0.122215"
      ]
     },
     "execution_count": 70,
     "metadata": {},
     "output_type": "execute_result"
    }
   ],
   "source": [
    "df = make_data(latent_seed=123345)\n",
    "# generate a \"retest\" dataset using the same latents\n",
    "\n",
    "df2 = make_data(latent_seed=123345)\n",
    "\n",
    "df.head()"
   ]
  },
  {
   "cell_type": "markdown",
   "metadata": {
    "deletable": true,
    "editable": true
   },
   "source": [
    "Let's plot a heatmap of the correlations between latent and observed values"
   ]
  },
  {
   "cell_type": "code",
   "execution_count": 15,
   "metadata": {
    "collapsed": false,
    "deletable": true,
    "editable": true
   },

   "outputs": [
    {
     "data": {
      "text/plain": [
       "<seaborn.matrix.ClusterGrid at 0x11c9477d0>"
      ]
     },
     "execution_count": 71,
     "metadata": {},
     "output_type": "execute_result"
    },
    {
     "data": {
      "image/png": "[encoded data removed]",
      "text/plain": [
       "<Figure size 720x720 with 4 Axes>"
      ]
     },
     "metadata": {
      "needs_background": "light"
     },
     "output_type": "display_data"
    }
   ],
   "source": [
    "sns.clustermap(df.corr(), annot=True, vmin=0, cmap='jet')"
   ]
  },
  {
   "cell_type": "markdown",
   "metadata": {
    "deletable": true,
    "editable": true
   },
   "source": [
    "What is the reliability of the measures for each latent?"
   ]
  },
  {
   "cell_type": "code",
   "execution_count": 16,
   "metadata": {
    "collapsed": false,
    "deletable": true,
    "editable": true
   },
   "outputs": [
    {
     "name": "stdout",
     "output_type": "stream",
     "text": [
      "Impulsivity: 0.6736577790079828\n",
      "Impatience: 0.6651636225574405\n"
     ]
    }
   ],
   "source": [
    "rho_impulsivity = df[['BIS', 'UPPS-P']].corr().iloc[0, 1]\n",
    "print('Impulsivity:', rho_impulsivity)\n",
    "\n",
    "rho_impatience = df[['Kirby', 'Bickel']].corr().iloc[0, 1]\n",
    "print('Impatience:', rho_impatience)"
   ]
  },
  {
   "cell_type": "markdown",
   "metadata": {
    "deletable": true,
    "editable": true
   },
   "source": [
    "## Attenuation\n",
    "\n",
    "Error variance in our measures will *attenuate* the correlation between measures.  In this example, let's say that we wanted to estimate the correlation between impulsivity and impatience using the BIS and Kirby measures.  In this case, we know the true correlations of the latent variables:"
   ]
  },
  {
   "cell_type": "code",
   "execution_count": 17,
   "metadata": {
    "collapsed": false,
    "deletable": true,
    "editable": true
   },
   "outputs": [
    {
     "data": {
      "text/plain": [
       "0.5594926220293412"
      ]
     },
     "execution_count": 73,
     "metadata": {},
     "output_type": "execute_result"
    }
   ],
   "source": [
    "rho_impulsivity_impatience = df[['impulsivity', 'impatience']].corr().iloc[0, 1]\n",
    "rho_impulsivity_impatience"
   ]
  },
  {
   "cell_type": "markdown",
   "metadata": {
    "deletable": true,
    "editable": true
   },
   "source": [
    "What do we see when we compare the two (noisy) measures?\n"
   ]
  },
  {
   "cell_type": "code",
   "execution_count": 18,
   "metadata": {
    "collapsed": false,
    "deletable": true,
    "editable": true
   },
   "outputs": [
    {
     "data": {
      "text/plain": [
       "0.34192412355203505"
      ]
     },
     "execution_count": 75,
     "metadata": {},
     "output_type": "execute_result"
    }
   ],
   "source": [
    "rho_BIS_Kirby = df[['BIS', 'Kirby']].corr().iloc[0,1]\n",
    "rho_BIS_Kirby"
   ]
  },
  {
   "cell_type": "markdown",
   "metadata": {
    "deletable": true,
    "editable": true
   },
   "source": [
    "The attenuation of the observed correlation for two measures $Y$ and $Y'$ of the same underlying construct follows the function:\n",
    "\n",
    "$$\n",
    "\\rho_{Y, Y'} = \\rho_{T_Y, T_{Y'}} * \\sqrt{\\rho_Y \\rho_{Y'}}\n",
    "$$\n"
   ]
  },
  {
   "cell_type": "code",
   "execution_count": 74,
   "metadata": {},
   "outputs": [
    {
     "data": {
      "text/plain": [
       "0.3779623961116336"
      ]
     },
     "execution_count": 74,
     "metadata": {},
     "output_type": "execute_result"
    }
   ],
   "source": [
    "# first compute test-retest reliability for each measure\n",
    "rho_BIS = np.corrcoef(df.BIS, df2.BIS)[0,1]\n",
    "rho_Kirby = np.corrcoef(df.Kirby, df2.Kirby)[0,1]\n",
    "\n",
    "# compute the predicted attenuated correlation\n",
    "rho_BIS_Kirby_predicted = rho_impulsivity_impatience*np.sqrt(rho_Kirby*rho_BIS)\n",
    "rho_BIS_Kirby_predicted"
   ]
  },
  {
   "cell_type": "markdown",
   "metadata": {},
   "source": [
    "We see here that the correlation between the measures is smaller than the correlation between their true scores, as predicted by the attenuation formula.  We can correct for this attenuation using Spearman's formula:\n",
    "\n",
    "$$\n",
    "\\rho_{T_Y, T_{Y'}} = \\frac{\\rho_{Y, Y'}}{\\sqrt{\\rho_Y \\rho_{Y'}}}\n",
    "$$\n",
    "\n",
    "That is, the observed correlation is attenuated by the square root of the product of the reliabilities of the individual variables. We can see this with our measures:"
   ]
  },
  {
   "cell_type": "code",
   "execution_count": 19,
   "metadata": {
    "collapsed": false,
    "deletable": true,
    "editable": true
   },
   "outputs": [
    {
     "data": {
      "text/plain": [
       "0.5061456546717141"
      ]
     },
     "execution_count": 76,
     "metadata": {},
     "output_type": "execute_result"
    }
   ],
   "source": [
    "rho_BIS_Kirby_corrected = rho_BIS_Kirby / np.sqrt(rho_BIS * rho_Kirby)\n",
    "rho_BIS_Kirby_corrected"
   ]
  },
  {
   "cell_type": "markdown",
   "metadata": {
    "deletable": true,
    "editable": true
   },
   "source": [
    "We see that this is much closer to the true correlation between the latent variables.\n",
    "\n",
    "There is a flip side to this effect: The true correlation between two variables cannot exceed the product of the reliabilities of those measures. This became an issue in a paper published in 2009 titled [Puzzlingly High Correlations in fMRI Studies of Emotion, Personality, and Social Cognition](https://www.ncbi.nlm.nih.gov/pubmed/26158964) by Ed Vul and colleagues.  This paper pointed out that many fMRI studies had published correlations between brain and behavior that were well above 0.8, which was inconsistent with the known reliabilities of both fMRI signals and most behavioral measures."
   ]
  },
  {
   "cell_type": "markdown",
   "metadata": {
    "deletable": true,
    "editable": true
   },
   "source": [
    "## Test-retest reliability\n",
    "\n",
    "We can also view test-retest reliability through the lens of classical test theory.\n",
    "\n",
    "Let's compare this what we see if we were to collect a new dataset with the same latent variables but different noise:\n"
   ]
  },
  {
   "cell_type": "code",
   "execution_count": 20,
   "metadata": {
    "collapsed": false,
    "deletable": true,
    "editable": true
   },
   "outputs": [
    {
     "data": {
      "text/plain": [
       "BIS       0.647562\n",
       "UPPS-P    0.647477\n",
       "Kirby     0.628854\n",
       "Bickel    0.692619\n",
       "dtype: float64"
      ]
     },
     "execution_count": 22,
     "metadata": {},
     "output_type": "execute_result"
    }
   ],
   "source": [
    "df_retest = make_data(latent_seed=123345)\n",
    "\n",
    "retest_correlations = pd.Series(index=['BIS', 'UPPS-P', 'Kirby', 'Bickel'], \n",
    "                                dtype=float)\n",
    "\n",
    "for i in retest_correlations.index:\n",
    "    retest_correlations[i] = np.corrcoef(df[i], df_retest[i])[0,1]\n",
    "\n",
    "retest_correlations"
   ]
  },
  {
   "cell_type": "markdown",
   "metadata": {
    "deletable": true,
    "editable": true
   },
   "source": [
    "These are very close to the reliabilities that we estimated above by comparing the two tests - unsurprisingly, since all of these were generated by simply adding the same kind of noise to the latents. "
   ]
  },
  {
   "cell_type": "markdown",
   "metadata": {
    "deletable": true,
    "editable": true
   },
   "source": [
    "In the former case we used Pearson correlation to compute the reliability.  The Pearson coefficient assesses the degree to which the variables are linearly related, but doesn't penalize for different means or slope other than one.  That it, it assesses how well the following model describes the data:\n",
    "\n",
    "$$\n",
    "y = slope * X + intercept\n",
    "$$\n",
    "\n",
    "In other cases, we might want to hold our measurements to a higher standard, such as $y = X$ (perfect agreement) or $y = X + intercept$ (consistency with a mean offset but $slope = 1$). The *intraclass correlation coefficient* is commonly used for this purpose. There are many different forms of the ICC - here we will focus on ICC(3,1), which is commonly used to assess retest reliability:\n",
    "\n",
    "$$\n",
    "ICC(3,1) = \\frac{MS_{subjects} - MS_{error}}{MS_{subjects} + MS_{error}}\n",
    "$$\n",
    "\n",
    "for the specific version with two measurements for each subject.  "
   ]
  },
  {
   "cell_type": "code",
   "execution_count": 21,
   "metadata": {
    "collapsed": true,
    "deletable": true,
    "editable": true
   },
   "outputs": [],
   "source": [
    "# adapted from https://github.com/nipy/nipype/blob/f2bbcc917899c98102bdeb84db61ea4b84cbf2f5/nipype/algorithms/icc.py#L29\n",
    "\n",
    "def ICC_rep_anova(Y, verbose=True):\n",
    "    '''\n",
    "    the data Y are entered as a 'table' ie subjects are in rows and repeated\n",
    "    measures in columns\n",
    "    One Sample Repeated measure ANOVA\n",
    "    Y = XB + E with X = [FaTor / Subjects]\n",
    "    '''\n",
    "\n",
    "    [nb_subjects, nb_conditions] = Y.shape\n",
    "    dfc = nb_conditions - 1\n",
    "    dfe = (nb_subjects - 1) * dfc\n",
    "    dfr = nb_subjects - 1\n",
    "\n",
    "    # Compute the repeated measure effect\n",
    "    # ------------------------------------\n",
    "\n",
    "    # Sum Square Total\n",
    "    mean_Y = np.mean(Y)\n",
    "    SST = ((Y - mean_Y)**2).sum()\n",
    "\n",
    "    # create the design matrix for the different levels\n",
    "    x = np.kron(np.eye(nb_conditions), np.ones((nb_subjects, 1)))  # sessions\n",
    "    x0 = np.tile(np.eye(nb_subjects), (nb_conditions, 1))  # subjects\n",
    "    X = np.hstack([x, x0])\n",
    "\n",
    "    # Sum Square Error\n",
    "    predicted_Y = np.dot(np.dot(np.dot(X, np.linalg.pinv(np.dot(X.T, X))), X.T), Y.flatten('F'))\n",
    "    residuals = Y.flatten('F') - predicted_Y\n",
    "    SSE = (residuals**2).sum()\n",
    "\n",
    "    residuals.shape = Y.shape\n",
    "\n",
    "    MSE = SSE / dfe\n",
    "\n",
    "    # Sum square session effect - between colums/sessions\n",
    "    SSC = ((np.mean(Y, 0) - mean_Y)**2).sum() * nb_subjects\n",
    "    MSC = SSC / dfc / nb_subjects\n",
    "\n",
    "    session_effect_F = MSC / MSE\n",
    "\n",
    "    # Sum Square subject effect - between rows/subjects\n",
    "    SSR = SST - SSC - SSE\n",
    "    MSR = SSR / dfr\n",
    "\n",
    "    # ICC(3,1) = (mean square subjeT - mean square error) /\n",
    "    #            (mean square subjeT + (k-1)*-mean square error)\n",
    "    ICC = (MSR - MSE) / (MSR + dfc * MSE)\n",
    "\n",
    "    e_var = MSE  # variance of error\n",
    "    r_var = (MSR - MSE) / nb_conditions  # variance between subjects\n",
    "    if verbose:\n",
    "        print('ICC:', ICC)\n",
    "        print('r:', np.corrcoef(Y.T)[0, 1])\n",
    "    return ICC"
   ]
  },
  {
   "cell_type": "code",
   "execution_count": 22,
   "metadata": {
    "collapsed": false,
    "deletable": true,
    "editable": true
   },
   "outputs": [
    {
     "name": "stdout",
     "output_type": "stream",
     "text": [
      "ICC: 0.6475622139702579\n",
      "r: 0.6475622139702579\n"
     ]
    }
   ],
   "source": [
    "Y = pd.DataFrame({'orig': df['BIS'], 'retest': df_retest['BIS']})\n",
    "\n",
    "_ = ICC_rep_anova(Y.values)"
   ]
  },
  {
   "cell_type": "markdown",
   "metadata": {
    "deletable": true,
    "editable": true
   },
   "source": [
    "In this case we see that the ICC is exactly the same as the Pearson correlation, because the values have the same variance. However, because the ICC uses a pooled variance whereas the Pearson R scales separately by the variance of each variable, the ICC will differ if the variances differ:"
   ]
  },
  {
   "cell_type": "code",
   "execution_count": 23,
   "metadata": {
    "collapsed": false,
    "deletable": true,
    "editable": true
   },
   "outputs": [
    {
     "name": "stdout",
     "output_type": "stream",
     "text": [
      "ICC: 0.5180497711762065\n",
      "r: 0.6475622139702579\n"
     ]
    }
   ],
   "source": [
    "Y['retest'] = Y['retest'] * 2\n",
    "\n",
    "_ = ICC_rep_anova(Y.values)"
   ]
  },
  {
   "cell_type": "markdown",
   "metadata": {
    "deletable": true,
    "editable": true
   },
   "source": [
    "The choice of when to use ICC versus Pearson's r depends on the interpretation that one wants.  If you simply care about the degree of shared variance without requiring that the measures share the same metric or variance, then Pearson's r is appropriate. However, depending on the nature of the dataset and the degree to which one wishes to assess different kinds of relationships between the tests (e.g. consistency vs. agreement), one might instead select the appropriate version of ICC.\n",
    "\n",
    "For more, see:\n",
    "\n",
    "McGraw, K. O., & Wong, S. P. (1996). Forming inferences about some intraclass correlation coefficients. Psychological Methods, 1(1), 30–46. doi:10.1037/1082-989x.1.1.30 \n"
   ]
  },
  {
   "cell_type": "code",
   "execution_count": null,
   "metadata": {
    "collapsed": true
   },
   "outputs": [],
   "source": []
  },
  {
   "cell_type": "markdown",
   "metadata": {},
   "source": [
    "## Additional notes on reliability"
   ]
  },
  {
   "cell_type": "code",
   "execution_count": 46,
   "metadata": {
    "collapsed": false
   },
   "outputs": [],
   "source": [
    "import h5py\n",
    "import os\n",
    "import numpy as np\n",
    "import scipy.stats as stats\n",
    "import matplotlib.pyplot as plt"
   ]
  },
  {
   "cell_type": "code",
   "execution_count": 47,
   "metadata": {
    "collapsed": false
   },
   "outputs": [],
   "source": [
    "#ok let's load the data mb\n",
    "DATA_PATH = \"/mnt/data3/yamins/visual/ventral_neural_data.hdf5\"\n",
    "Ventral_Dataset = h5py.File(DATA_PATH, mode='r')"
   ]
  },
  {
   "cell_type": "code",
   "execution_count": 48,
   "metadata": {
    "collapsed": true
   },
   "outputs": [],
   "source": [
    "#useful utility function for plotting HDF5 dimension labels\n",
    "def dimnames(dataset):\n",
    "    dims = dataset.dims  #get the dimension object\n",
    "    dimlist = [x.label for x in dims.keys()]  #get the label attribute\n",
    "    dimlist = map(str, dimlist)  #cast everything to string instead of \"unicode\" ... complicated rathole ... not strictly necessary\n",
    "    return dimlist"
   ]
  },
  {
   "cell_type": "code",
   "execution_count": 49,
   "metadata": {
    "collapsed": false
   },
   "outputs": [
    {
     "data": {
      "text/plain": [
       "[u'image_meta',\n",
       " u'images',\n",
       " u'neural_meta',\n",
       " u'time_averaged',\n",
       " u'time_averaged_trial_averaged',\n",
       " u'time_binned',\n",
       " u'time_binned_trial_averaged']"
      ]
     },
     "execution_count": 49,
     "metadata": {},
     "output_type": "execute_result"
    }
   ],
   "source": [
    "Ventral_Dataset.keys()"
   ]
  },
  {
   "cell_type": "code",
   "execution_count": 50,
   "metadata": {
    "collapsed": false
   },
   "outputs": [
    {
     "data": {
      "text/plain": [
       "<HDF5 group \"/time_averaged\" (3 members)>"
      ]
     },
     "execution_count": 50,
     "metadata": {},
     "output_type": "execute_result"
    }
   ],
   "source": [
    "Ventral_Dataset['time_averaged']"
   ]
  },
  {
   "cell_type": "code",
   "execution_count": 51,
   "metadata": {
    "collapsed": false
   },
   "outputs": [
    {
     "data": {
      "text/plain": [
       "[u'variation_level_0', u'variation_level_3', u'variation_level_6']"
      ]
     },
     "execution_count": 51,
     "metadata": {},
     "output_type": "execute_result"
    }
   ],
   "source": [
    "Ventral_Dataset['time_averaged'].keys()"
   ]
  },
  {
   "cell_type": "code",
   "execution_count": 52,
   "metadata": {
    "collapsed": false
   },
   "outputs": [
    {
     "data": {
      "text/plain": [
       "<HDF5 dataset \"variation_level_0\": shape (28, 640, 296), type \"<f4\">"
      ]
     },
     "execution_count": 52,
     "metadata": {},
     "output_type": "execute_result"
    }
   ],
   "source": [
    "Ventral_Dataset['time_averaged']['variation_level_0']"
   ]
  },
  {
   "cell_type": "code",
   "execution_count": 53,
   "metadata": {
    "collapsed": false
   },
   "outputs": [
    {
     "data": {
      "text/plain": [
       "['trial', 'image', 'neuron']"
      ]
     },
     "execution_count": 53,
     "metadata": {},
     "output_type": "execute_result"
    }
   ],
   "source": [
    "dimnames(Ventral_Dataset['time_averaged']['variation_level_0'])"
   ]
  },
  {
   "cell_type": "code",
   "execution_count": 54,
   "metadata": {
    "collapsed": false
   },
   "outputs": [
    {
     "name": "stdout",
     "output_type": "stream",
     "text": [
      "[ 11  12  13  14  15  16  17  18  19  20  21  22  23  24  25  26  27  28\n",
      "  29  30  31  32  33  34  35  36  37  38  39  40  41  42  43  44  85  86\n",
      "  87  88  89  90  91  92  93  94  95  96  97  98  99 100 101 102 103 104\n",
      " 105 106 107 108 109 110 111 112 113 114 115 116 117 118 119 120 163 164\n",
      " 165 166 167 168 169 170 211 212 213 214 215 216 217 218 219 220 256 257\n",
      " 258 259 260 261 262 263 264 265 266 267 268 269 270 271 272 273 274 275\n",
      " 276 277 278 279 280 281 282 283 284 285 286 287 288 289 290 291 292 293\n",
      " 294 295]\n",
      "\n",
      "There are 128 V4 neurons\n",
      "[  0   1   2   3   4   5   6   7   8   9  10  45  46  47  48  49  50  51\n",
      "  52  53  54  55  56  57  58  59  60  61  62  63  64  65  66  67  68  69\n",
      "  70  71  72  73  74  75  76  77  78  79  80  81  82  83  84 121 122 123\n",
      " 124 125 126 127 128 129 130 131 132 133 134 135 136 137 138 139 140 141\n",
      " 142 143 144 145 146 147 148 149 150 151 152 153 154 155 156 157 158 159\n",
      " 160 161 162 171 172 173 174 175 176 177 178 179 180 181 182 183 184 185\n",
      " 186 187 188 189 190 191 192 193 194 195 196 197 198 199 200 201 202 203\n",
      " 204 205 206 207 208 209 210 221 222 223 224 225 226 227 228 229 230 231\n",
      " 232 233 234 235 236 237 238 239 240 241 242 243 244 245 246 247 248 249\n",
      " 250 251 252 253 254 255]\n",
      "\n",
      " There are 168 IT neurons\n"
     ]
    }
   ],
   "source": [
    "#these are indices into the neurons dimension, defining different subsets of neurons\n",
    "#in different brain areas\n",
    "V4_NEURONS = Ventral_Dataset['neural_meta']['V4_NEURONS'][:]\n",
    "print(V4_NEURONS)\n",
    "print('\\nThere are %d V4 neurons' % len(V4_NEURONS))\n",
    "\n",
    "IT_NEURONS = Ventral_Dataset['neural_meta']['IT_NEURONS'][:]\n",
    "print(IT_NEURONS)\n",
    "print('\\n There are %d IT neurons' % len(IT_NEURONS))"
   ]
  },
  {
   "cell_type": "code",
   "execution_count": 55,
   "metadata": {
    "collapsed": false
   },
   "outputs": [
    {
     "data": {
      "text/plain": [
       "array(['V0', 'V3', 'V6'], dtype='|S2')"
      ]
     },
     "execution_count": 55,
     "metadata": {},
     "output_type": "execute_result"
    }
   ],
   "source": [
    "var_level = Ventral_Dataset['image_meta']['variation_level'][:]\n",
    "unique_var_levels = np.unique(var_level)\n",
    "unique_var_levels"
   ]
  },
  {
   "cell_type": "code",
   "execution_count": 66,
   "metadata": {
    "collapsed": true
   },
   "outputs": [],
   "source": [
    "#wrap the data into a useful bject for our purposes (reliability analysis)\n",
    "\n",
    "IT_Data_by_trial = {}\n",
    "for vl in unique_var_levels:\n",
    "    level_number = int(vl[-1])\n",
    "    arr = Ventral_Dataset['time_averaged']['variation_level_%s' % level_number][:, :, IT_NEURONS]\n",
    "    IT_Data_by_trial[vl] = arr.swapaxes(0, 1)"
   ]
  },
  {
   "cell_type": "code",
   "execution_count": 67,
   "metadata": {
    "collapsed": false
   },
   "outputs": [
    {
     "data": {
      "text/plain": [
       "(2560, 47, 168)"
      ]
     },
     "execution_count": 67,
     "metadata": {},
     "output_type": "execute_result"
    }
   ],
   "source": [
    "#num_images by num_trials by num_neurons\n",
    "IT_Data_by_trial['V6'].shape"
   ]
  },
  {
   "cell_type": "code",
   "execution_count": 68,
   "metadata": {
    "collapsed": true
   },
   "outputs": [],
   "source": [
    "#here's a very simple implementation of split-half reliability\n",
    "\n",
    "def get_correlation(data_by_trial, num_trials, num_splits):\n",
    "    \"\"\"arguments:\n",
    "          data_by_trial -- (numpy array) the data\n",
    "             assumes a tensor with structure is (conditions, trials)\n",
    "             \n",
    "          num_trials -- (nonnegative integer) how many trials to consider\n",
    "          \n",
    "          num_splits (nonnegative integer) how many splits of the data to make\n",
    "          \n",
    "       returns:\n",
    "          array of length num_splits\n",
    "    \"\"\"\n",
    "\n",
    "    \n",
    "    #get total number of trials\n",
    "    num_total_trials = data_by_trial.shape[1]\n",
    "    \n",
    "    #you better not ask for more trials than you actually have\n",
    "    assert num_trials <= num_total_trials, \"You asked for %d trials but there's only %d\" % (num_trials, num_total_trials)\n",
    "    \n",
    "    #we want to make sure that while we select groups of trials basically randomly,\n",
    "    #that we can still exactly reproduce our results later\n",
    "    #so to do this, we use a constructed random number generator to select trial groups\n",
    "    #and seed the generator with seed = 0 (could be any non-negative integer, but the seed\n",
    "    #*must* be set for this to be reproducible\n",
    "    random_number_generator = np.random.RandomState(seed=0)\n",
    "\n",
    "    corrvals = []\n",
    "    for split_index in range(num_splits):\n",
    "        #construct a new permutation of the trial indices\n",
    "        perm =  random_number_generator.permutation(num_total_trials)\n",
    "    \n",
    "        #take the first num_trials/2 and second num_trials/2 pieces of the data\n",
    "        first_half_of_trial_indices = perm[:int(num_trials / 2)]\n",
    "        second_half_of_trial_indices = perm[int(num_trials / 2): num_trials]\n",
    "        \n",
    "        #mean over trial dimension\n",
    "        mean_first_half_of_trials = data_by_trial[:, first_half_of_trial_indices].mean(axis=1)\n",
    "        mean_second_half_of_trials = data_by_trial[:, second_half_of_trial_indices].mean(axis=1)\n",
    "        \n",
    "        #compute the correlation between the means\n",
    "        corrval = stats.pearsonr(mean_first_half_of_trials, \n",
    "                                 mean_second_half_of_trials)[0]\n",
    "        #add to the list\n",
    "        corrvals.append(corrval)\n",
    "        \n",
    "    return np.array(corrvals)"
   ]
  },
  {
   "cell_type": "code",
   "execution_count": 71,
   "metadata": {
    "collapsed": false
   },
   "outputs": [
    {
     "data": {
      "text/plain": [
       "(-1, 513)"
      ]
     },
     "execution_count": 71,
     "metadata": {},
     "output_type": "execute_result"
    },
    {
     "data": {
      "image/png": "[encoded data removed]",
      "text/plain": [
       "<matplotlib.figure.Figure at 0x7fcca9827990>"
      ]
     },
     "metadata": {},
     "output_type": "display_data"
    }
   ],
   "source": [
    "#in fact, let's plot reliability estimate and the SEM as \n",
    "#a function of the number of splits\n",
    "#... first for 10 trials\n",
    "\n",
    "neuron_ind = 10\n",
    "vl = 'V6'\n",
    "\n",
    "num_trials = 2\n",
    "\n",
    "means = []\n",
    "sems = []\n",
    "\n",
    "num_splits = [2, 8, 16, 32, 64, 128, 256, 512]\n",
    "for ns in num_splits:\n",
    "    cs = get_correlation(IT_Data_by_trial[vl][:, :, neuron_ind],\n",
    "                           num_trials, \n",
    "                           ns)\n",
    "    mean = cs.mean()\n",
    "    means.append(mean)\n",
    "    sem = cs.std() / np.sqrt(ns)\n",
    "    sems.append(sem)\n",
    "    \n",
    "means = np.array(means)\n",
    "sems = np.array(sems)\n",
    "\n",
    "plt.plot(num_splits, means)\n",
    "plt.fill_between(num_splits, means - sems, means + sems, color='b', alpha = 0.2)\n",
    "plt.xlabel('Number of splits')\n",
    "plt.ylabel('Split half reliability')\n",
    "plt.title('Neuron %d varlevel %s reliability\\n at %d trials' % (neuron_ind, vl, num_trials))\n",
    "plt.xlim(-1, 513)"
   ]
  },
  {
   "cell_type": "code",
   "execution_count": 72,
   "metadata": {
    "collapsed": false
   },
   "outputs": [
    {
     "data": {
      "text/plain": [
       "(-1, 513)"
      ]
     },
     "execution_count": 72,
     "metadata": {},
     "output_type": "execute_result"
    },
    {
     "data": {
      "image/png": "[encoded data removed]",
      "text/plain": [
       "<matplotlib.figure.Figure at 0x7fcca9827c10>"
      ]
     },
     "metadata": {},
     "output_type": "display_data"
    }
   ],
   "source": [
    "#... now for 25 trials\n",
    "neuron_ind = 10\n",
    "vl = b'V6'\n",
    "\n",
    "num_trials = 25\n",
    "\n",
    "means = []\n",
    "sems = []\n",
    "\n",
    "num_splits = [2, 8, 16, 32, 64, 128, 256, 512]\n",
    "for ns in num_splits:\n",
    "    cs = get_correlation(IT_Data_by_trial[vl][:, :, neuron_ind], \n",
    "                         num_trials, \n",
    "                         ns)\n",
    "    mean = cs.mean()\n",
    "    means.append(mean)\n",
    "    sem = cs.std() / np.sqrt(ns)\n",
    "    sems.append(sem)\n",
    "    \n",
    "means = np.array(means)\n",
    "sems = np.array(sems)\n",
    "\n",
    "plt.plot(num_splits, means)\n",
    "plt.fill_between(num_splits, means - sems, means + sems, color='b', alpha = 0.2)\n",
    "plt.xlabel('Number of splits')\n",
    "plt.ylabel('Split half reliability')\n",
    "plt.title('Neuron %d varlevel %s reliability\\n at %d trials' % (neuron_ind, vl, num_trials))\n",
    "plt.xlim(-1, 513)\n",
    "\n",
    "#conclusion:  it looks like having num_splits ~ 10 * num_trials is good enough"
   ]
  },
  {
   "cell_type": "code",
   "execution_count": 73,
   "metadata": {
    "collapsed": true
   },
   "outputs": [],
   "source": [
    "#ok so now let's look at reliability as a function of number of trials\n",
    "\n",
    "def get_reliability_curve(data):\n",
    "    \"\"\"\n",
    "    This is a convenience function that plots reliability as a function of number of trials for some data\n",
    "    \n",
    "    arguments:\n",
    "       data -- (numpy array) of shape (stimuli, trials)\n",
    "    \n",
    "    \"\"\"\n",
    "    means = []\n",
    "    sems = []\n",
    "    \n",
    "    #determine the total number of trials\n",
    "    total_num_trials = data.shape[1]\n",
    "    \n",
    "    #we'll evaluate reliability for each number of trials betwee 2 and the total\n",
    "    num_trials = range(2, total_num_trials)\n",
    "    for nt in num_trials:\n",
    "        ns = 10 * nt\n",
    "        cs = get_correlation(data,\n",
    "                               nt, \n",
    "                               ns)\n",
    "        mean = cs.mean()\n",
    "        means.append(mean)\n",
    "        sem = cs.std() / np.sqrt(ns)\n",
    "        sems.append(sem)\n",
    "        \n",
    "        multiple = total_num_trials / float(nt) #have to do \"float\" here since python 2.x does integer division\n",
    "         \n",
    "    means = np.array(means)\n",
    "    sems = np.array(sems)\n",
    "    \n",
    "    ln = plt.plot(num_trials, means)[0]  #this \"ln\" thing is a matplotlib thing -- usefor for making legens (see below)\n",
    "    plt.fill_between(num_trials, means - sems, means + sems, color='b', alpha = 0.2)\n",
    " \n",
    "    plt.xlabel('Number of Trials')\n",
    "    plt.ylabel('Mean correlation')\n",
    "    \n",
    "    return ln"
   ]
  },
  {
   "cell_type": "code",
   "execution_count": 74,
   "metadata": {
    "collapsed": false
   },
   "outputs": [
    {
     "data": {
      "image/png": "[encoded data removed]",
      "text/plain": [
       "<matplotlib.figure.Figure at 0x7fcca9827d90>"
      ]
     },
     "metadata": {},
     "output_type": "display_data"
    }
   ],
   "source": [
    "neuron_ind = 10\n",
    "vl = b'V6'\n",
    "get_reliability_curve(IT_Data_by_trial[vl][:, :, neuron_ind]);\n",
    "\n",
    "ln = plt.title('Reliability curve for neuron %d, varlevel %s' % (neuron_ind, vl))"
   ]
  },
  {
   "cell_type": "markdown",
   "metadata": {},
   "source": [
    "### spearman-brown correction"
   ]
  },
  {
   "cell_type": "code",
   "execution_count": 75,
   "metadata": {
    "collapsed": true
   },
   "outputs": [],
   "source": [
    "def spearman_brown(uncorrected, multiple):\n",
    "    numerator = multiple * uncorrected\n",
    "    denominator = 1 + (multiple - 1) * uncorrected\n",
    "    return numerator / denominator"
   ]
  },
  {
   "cell_type": "code",
   "execution_count": 76,
   "metadata": {
    "collapsed": true
   },
   "outputs": [],
   "source": [
    "#ok so now let's look at reliability as a function of number of trials\n",
    "\n",
    "def get_reliability_curve_spearman_brown(data):\n",
    "    \"\"\"\n",
    "    This is a convenience function that plots reliability as a function of number of trials for some data\n",
    "    \n",
    "    arguments:\n",
    "       data -- (numpy array) of shape (stimuli, trials)\n",
    "    \n",
    "    \"\"\"\n",
    "    means = []\n",
    "    sems = []\n",
    "    corrected_means = []\n",
    "\n",
    "    #determine the total number of trials\n",
    "    total_num_trials = data.shape[1]\n",
    "    \n",
    "    #we'll evaluate reliability for each number of trials betwee 2 and the total\n",
    "    num_trials = range(2, total_num_trials)\n",
    "    for nt in num_trials:\n",
    "        ns = 10 * nt\n",
    "        cs = get_correlation(data,\n",
    "                               nt, \n",
    "                               ns)\n",
    "        mean = cs.mean()\n",
    "        means.append(mean)\n",
    "        sem = cs.std() / np.sqrt(ns)\n",
    "        sems.append(sem)\n",
    "        \n",
    "        multiple = total_num_trials / float(nt) #have to do \"float\" here since python 2.x does integer division\n",
    "        corrected_mean = spearman_brown(mean, multiple) \n",
    "        corrected_means.append(corrected_mean)\n",
    "        \n",
    "    means = np.array(means)\n",
    "    sems = np.array(sems)\n",
    "    corrected_means = np.array(corrected_means)\n",
    "    \n",
    "    ln = plt.plot(num_trials, means)[0]  #this \"ln\" thing is a matplotlib thing -- usefor for making legens (see below)\n",
    "    plt.fill_between(num_trials, means - sems, means + sems, color='b', alpha = 0.2)\n",
    "    \n",
    "    ln_cor = plt.plot(num_trials, corrected_means)[0]\n",
    "\n",
    "    plt.xlabel('Number of Trials')\n",
    "    plt.ylabel('Mean correlation')\n",
    "    \n",
    "    return (ln, ln_cor)"
   ]
  },
  {
   "cell_type": "code",
   "execution_count": 77,
   "metadata": {
    "collapsed": false
   },
   "outputs": [
    {
     "data": {
      "text/plain": [
       "<matplotlib.legend.Legend at 0x7fcca6176c90>"
      ]
     },
     "execution_count": 77,
     "metadata": {},
     "output_type": "execute_result"
    },
    {
     "data": {
      "image/png": "[encoded data removed]",
      "text/plain": [
       "<matplotlib.figure.Figure at 0x7fcca6325590>"
      ]
     },
     "metadata": {},
     "output_type": "display_data"
    }
   ],
   "source": [
    "#ok the spearman-brown correction is a little bit of an overestimate here ...\n",
    "#... but not bad\n",
    "neuron_ind = 10\n",
    "vl = b'V6'\n",
    "ln, ln_cor = get_reliability_curve_spearman_brown(IT_Data_by_trial[vl][:, :, neuron_ind]);\n",
    "\n",
    "plt.title('Reliability curve for neuron %d, varlevel %s' % (neuron_ind, vl))\n",
    "\n",
    "plt.legend([ln, ln_cor], ['Uncorrected', 'Corrected'], loc='lower right')\n",
    "\n"
   ]
  },
  {
   "cell_type": "code",
   "execution_count": null,
   "metadata": {
    "collapsed": true
   },
   "outputs": [],
   "source": []
  }
 ],
 "metadata": {
  "kernelspec": {
   "display_name": "Python 2",
   "language": "python",
   "name": "python2"
  },
  "language_info": {
   "codemirror_mode": {
    "name": "ipython",
    "version": 2
   },
   "file_extension": ".py",
   "mimetype": "text/x-python",
   "name": "python",
   "nbconvert_exporter": "python",
   "pygments_lexer": "ipython2",
   "version": "2.7.15+"
  }
 },
 "nbformat": 4,
 "nbformat_minor": 4
}
